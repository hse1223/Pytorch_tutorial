{
 "cells": [
  {
   "cell_type": "markdown",
   "id": "65207746",
   "metadata": {},
   "source": [
    "* https://jovian.ai/aakashns/04-feedforward-nn"
   ]
  },
  {
   "cell_type": "markdown",
   "id": "d8f8e2a8",
   "metadata": {},
   "source": [
    "* In this chapter, we are using ReLU instead of softmax. ReLU is used because it imposes sparsity, is computationally fast, and empirically works well. Softplus is a smoothed approximation of ReLU (https://pytorch.org/docs/stable/generated/torch.nn.Softplus.html), but ReLU works better. Interestingly enough, (Bertoin, 2021) claims that how to set the derivative of the ReLU function at x=0 (either 0 or 1) has an effect on the performance. https://scholar.google.com/scholar?hl=ko&as_sdt=0%2C44&q=Numerical+influence+of+ReLU%E2%80%99%280%29+on+backpropagation&btnG=\n",
    "* When we apply parallel computation on SGD (DataLoader), there exist nodes that handle loading the next batch of data and a single node that processes updating parameters."
   ]
  },
  {
   "cell_type": "markdown",
   "id": "28787dec",
   "metadata": {},
   "source": [
    "# 1. Introduction of hidden layer"
   ]
  },
  {
   "cell_type": "code",
   "execution_count": null,
   "id": "158e226d",
   "metadata": {},
   "outputs": [],
   "source": [
    "import torch\n",
    "# import torchvision\n",
    "import numpy as np\n",
    "# import matplotlib\n",
    "import matplotlib.pyplot as plt\n",
    "import torch.nn as nn\n",
    "import torch.nn.functional as F\n",
    "from torchvision.datasets import MNIST\n",
    "from torchvision.transforms import ToTensor\n",
    "from torchvision.utils import make_grid\n",
    "from torch.utils.data.dataloader import DataLoader\n",
    "from torch.utils.data import random_split"
   ]
  },
  {
   "cell_type": "markdown",
   "id": "9d328cb0",
   "metadata": {},
   "source": [
    "## Display the images."
   ]
  },
  {
   "cell_type": "code",
   "execution_count": null,
   "id": "68edb092",
   "metadata": {},
   "outputs": [],
   "source": [
    "dataset = MNIST(root='data/', download=False, transform=ToTensor()) # train=True is default"
   ]
  },
  {
   "cell_type": "markdown",
   "id": "44d628c5",
   "metadata": {},
   "source": [
    "* ```plt.imshow()``` can plot a 28-28-1 tensor or 28-by-28 matrix. It cannot be 1-28-28."
   ]
  },
  {
   "cell_type": "code",
   "execution_count": null,
   "id": "bbe611bc",
   "metadata": {},
   "outputs": [],
   "source": [
    "image, label = dataset[0]\n",
    "print('image.shape:', image.shape)\n",
    "# plt.imshow(image[0,:,:], cmap='gray')\n",
    "plt.imshow(image.permute(1,2,0), cmap='gray')\n",
    "print(torch.sum(image[0,:,:].reshape(28,28,1)!=image.permute(1,2,0)))"
   ]
  },
  {
   "cell_type": "code",
   "execution_count": null,
   "id": "4d5535fd",
   "metadata": {
    "scrolled": true
   },
   "outputs": [],
   "source": [
    "# torch.manual_seed(0)\n",
    "val_size = 10000\n",
    "train_size = len(dataset) - val_size\n",
    "train_ds, val_ds = random_split(dataset, [train_size, val_size])\n",
    "len(train_ds), len(val_ds)"
   ]
  },
  {
   "cell_type": "markdown",
   "id": "6dc65a21",
   "metadata": {},
   "source": [
    "## Preparation of parallel & gpu coding"
   ]
  },
  {
   "cell_type": "markdown",
   "id": "7e38dcb1",
   "metadata": {},
   "source": [
    "When loading the data, we can manage the number of cpus and adjust it so that we can make use of gpu.\n",
    "* ```train_loader = DataLoader(train_ds, batch_size, shuffle=True, num_workers=0, pin_memory=True)```\n",
    "* __num_workers__: number of cpus that we use (default=0: only the main processor).\n",
    "* __pin_memory__: speed things up when using GPU, which helps in matrix multiplication.\n",
    "\n",
    "We can pick out the numbers of cpus that are stored in this computer by the following code. However increasing the use of cpus does not always speed things up.\n",
    "* ```import multiprocessing```\n",
    "* ```nworkers = multiprocessing.cpu_count()``` : number of cpus in my computer\n",
    "\n",
    "You may wonder why we need multiple cpus in SGD, where we update parameters sequentially one batch by one batch. In other words, only after we update the parameters, can we compute the gradients using the next batch, so it may seem that we would not need multiple cpus. However using multiple cpus still helps, because while the main processor handles the gradient (loss.backward(), opt.step(), etc.), the other cpu may load the next batch. This cooperation will speed things up."
   ]
  },
  {
   "cell_type": "code",
   "execution_count": null,
   "id": "84125dd1",
   "metadata": {},
   "outputs": [],
   "source": [
    "batch_size = 128\n",
    "train_loader = DataLoader(train_ds, batch_size, shuffle=True, num_workers=0, pin_memory=True)\n",
    "val_loader = DataLoader(val_ds, batch_size*2, num_workers=4, pin_memory=True)"
   ]
  },
  {
   "cell_type": "markdown",
   "id": "1c41ce21",
   "metadata": {},
   "source": [
    "## Displaying multiple images together"
   ]
  },
  {
   "cell_type": "markdown",
   "id": "9e512c2a",
   "metadata": {},
   "source": [
    "We are going to plot the whole batch.\n",
    "* ```plt.figure(figsize=(16,8))``` : adjust the size of the pane.\n",
    "* ```plt.axis('off')``` : remove the y-index and x-index.\n",
    "* ```make_grid(images, nrow=16)``` : images is a mini-batch of image tensors. nrow=16 means that each row has 16 images displayed, not the number of rows (unlike R). Python is row-wise for the most of the times, contrary to R, so the images are displayed so that it fills row by row. That is, they are aligned in the order of (1,1)-(1,2)-(1,3)$\\cdots$. Do not forget to add ```.permute(1,2,0)``` at the end."
   ]
  },
  {
   "cell_type": "code",
   "execution_count": null,
   "id": "52b6ce3c",
   "metadata": {},
   "outputs": [],
   "source": [
    "for images, _ in train_loader: # a single batch\n",
    "    print('image.shape:', images.shape)\n",
    "#    plt.figure(figsize=(16,8))\n",
    "    plt.axis('off')\n",
    "    plt.imshow(make_grid(images, nrow=16).permute(1,2,0))\n",
    "    break"
   ]
  },
  {
   "cell_type": "markdown",
   "id": "9a0a6f01",
   "metadata": {},
   "source": [
    "## Hidden Layers"
   ]
  },
  {
   "cell_type": "code",
   "execution_count": null,
   "id": "52065444",
   "metadata": {},
   "outputs": [],
   "source": [
    "for images, labels in train_loader:\n",
    "    print('images.shape:', images.shape)\n",
    "    inputs = images.reshape(-1,784) # stretch it out so that we can use it as the input variable of a neural network.\n",
    "    print('inputs.shape:', inputs.shape)\n",
    "    break"
   ]
  },
  {
   "cell_type": "markdown",
   "id": "8fc362fb",
   "metadata": {},
   "source": [
    "* Given an array (or a tensor), [-1] gives us the last element. We can understand it in the following way. [0] indicates the 1st element, so [-1] goes backward by one step, which leads us to the last element.\n",
    "* model=nn.Linear(p, K) $\\rightarrow$ outpus = model(inputs), where inputs = $N\\times p$ tensor, outputs = $N \\times K$ tensor"
   ]
  },
  {
   "cell_type": "code",
   "execution_count": null,
   "id": "4a711eef",
   "metadata": {},
   "outputs": [],
   "source": [
    "input_size = inputs.shape[-1]\n",
    "hidden_size = 32"
   ]
  },
  {
   "cell_type": "code",
   "execution_count": null,
   "id": "3850bca0",
   "metadata": {},
   "outputs": [],
   "source": [
    "layer1 = nn.Linear(input_size, hidden_size)\n",
    "layer1_outputs = layer1(inputs)\n",
    "print('layer1_outputs.shape:', layer1_outputs.shape)"
   ]
  },
  {
   "cell_type": "markdown",
   "id": "62045d62",
   "metadata": {},
   "source": [
    "* ```torch.allclose(tensor1, tensor2)``` tells us whether we can view the tensors as equal objects, given the specified tolerance. We can adjust the tolerance level, but is a little tricky to manage, having two tuning parameters rtol adn atol, so maybe using the default values may be good."
   ]
  },
  {
   "cell_type": "code",
   "execution_count": null,
   "id": "5fd765c9",
   "metadata": {
    "scrolled": true
   },
   "outputs": [],
   "source": [
    "manually_computed = inputs @ layer1.weight.t() + layer1.bias\n",
    "print(torch.max(abs(manually_computed - layer1_outputs)).item())\n",
    "torch.allclose(layer1_outputs, manually_computed)"
   ]
  },
  {
   "cell_type": "markdown",
   "id": "52f598eb",
   "metadata": {
    "scrolled": true
   },
   "source": [
    "## Relu"
   ]
  },
  {
   "cell_type": "markdown",
   "id": "7bfaf1b1",
   "metadata": {},
   "source": [
    "* F.relu: apply relu function to every entry of the tensor."
   ]
  },
  {
   "cell_type": "code",
   "execution_count": null,
   "id": "01bf4bce",
   "metadata": {},
   "outputs": [],
   "source": [
    "F.relu(torch.tensor([\n",
    "    [1.,-1,0],\n",
    "    [-0.1, 0.2, 3]\n",
    "]))"
   ]
  },
  {
   "cell_type": "code",
   "execution_count": null,
   "id": "3a8bd8a2",
   "metadata": {},
   "outputs": [],
   "source": [
    "relu_outputs = F.relu(layer1_outputs)\n",
    "print(\"min(layer1_outputs):\", torch.min(layer1_outputs).item())\n",
    "print(\"min(relu_outputs):\", torch.min(relu_outputs).item()) # But the maximum values are the same, of course."
   ]
  },
  {
   "cell_type": "markdown",
   "id": "bfca8b08",
   "metadata": {},
   "source": [
    "## 2nd layer"
   ]
  },
  {
   "cell_type": "code",
   "execution_count": null,
   "id": "877ee7fb",
   "metadata": {},
   "outputs": [],
   "source": [
    "output_size = 10\n",
    "layer2 = nn.Linear(hidden_size, output_size)"
   ]
  },
  {
   "cell_type": "code",
   "execution_count": null,
   "id": "0065d673",
   "metadata": {},
   "outputs": [],
   "source": [
    "layer2_outputs = layer2(relu_outputs)\n",
    "layer2_outputs.shape"
   ]
  },
  {
   "cell_type": "markdown",
   "id": "6c8d875b",
   "metadata": {},
   "source": [
    "* Although we do not have a single \"softmax\" function in this page, ```F.cross_entropy``` already calculates softmax function, as noted in the file (3)-1. In addition, we do not have to transform the output values with softmax, because softmax is a monotone function."
   ]
  },
  {
   "cell_type": "code",
   "execution_count": null,
   "id": "289b4c80",
   "metadata": {},
   "outputs": [],
   "source": [
    "F.cross_entropy(layer2_outputs, labels)"
   ]
  },
  {
   "cell_type": "code",
   "execution_count": null,
   "id": "fe80a32f",
   "metadata": {},
   "outputs": [],
   "source": [
    "outputs = (F.relu(inputs @ layer1.weight.t() + layer1.bias)) @ layer2.weight.t() + layer2.bias\n",
    "torch.allclose(outputs, layer2_outputs, 1e-3)\n",
    "torch.max(abs(outputs - layer2_outputs))"
   ]
  },
  {
   "cell_type": "markdown",
   "id": "ce4f6c90",
   "metadata": {},
   "source": [
    "# 2. Form a model"
   ]
  },
  {
   "cell_type": "code",
   "execution_count": null,
   "id": "05d3cca7",
   "metadata": {
    "scrolled": false
   },
   "outputs": [],
   "source": [
    "%reset\n",
    "# I do not know why, but if we run this line, it returns an error in the gpu part. Just Ctrl+O and then start from the bottom line."
   ]
  },
  {
   "cell_type": "code",
   "execution_count": 1,
   "id": "2167d04b",
   "metadata": {},
   "outputs": [],
   "source": [
    "import torch\n",
    "# import torchvision\n",
    "import numpy as np\n",
    "# import matplotlib\n",
    "import matplotlib.pyplot as plt\n",
    "import torch.nn as nn\n",
    "import torch.nn.functional as F\n",
    "from torchvision.datasets import MNIST\n",
    "from torchvision.transforms import ToTensor\n",
    "from torchvision.utils import make_grid\n",
    "from torch.utils.data.dataloader import DataLoader\n",
    "from torch.utils.data import random_split\n",
    "\n",
    "torch.manual_seed(0)\n",
    "dataset = MNIST(root='data/', download=False, transform=ToTensor()) # train=True is default\n",
    "val_size = 10000\n",
    "train_size = len(dataset) - val_size\n",
    "train_ds, val_ds = random_split(dataset, [train_size, val_size])\n",
    "batch_size = 128\n",
    "train_loader = DataLoader(train_ds, batch_size, shuffle=True, num_workers=0, pin_memory=True)\n",
    "val_loader = DataLoader(val_ds, batch_size*2, num_workers=4, pin_memory=True)"
   ]
  },
  {
   "cell_type": "markdown",
   "id": "693e9abb",
   "metadata": {},
   "source": [
    "* torch.randn(4,4,4): form a 4-4-4 tensor with enteies sampled from normal(0,1). cannot control mean and sd.\n",
    "* torch.normal(mean, std) controls mean and sd.\n",
    "* Tensor.view(d1,d2) : same with .reshape(d1.d2)\n",
    "* Tensor.view(d1) : size of d1-th dimension\n",
    "* Tensor.size() : same with .shape()"
   ]
  },
  {
   "cell_type": "code",
   "execution_count": 2,
   "id": "ee8fc5e6",
   "metadata": {},
   "outputs": [
    {
     "name": "stdout",
     "output_type": "stream",
     "text": [
      "torch.Size([4, 4])\n",
      "torch.Size([16])\n",
      "torch.Size([2, 8])\n"
     ]
    }
   ],
   "source": [
    "x = torch.randn(4,4)\n",
    "print(x.size())\n",
    "\n",
    "y = x.view(16)\n",
    "print(y.size())\n",
    "\n",
    "z=x.view(-1,8)\n",
    "print(z.size())"
   ]
  },
  {
   "cell_type": "markdown",
   "id": "98366a14",
   "metadata": {},
   "source": [
    "* ```out = self(images)``` later works as ```out = model(images)```. ```self``` can serve as a function inside the definition of class."
   ]
  },
  {
   "cell_type": "code",
   "execution_count": 3,
   "id": "6c0435ce",
   "metadata": {},
   "outputs": [],
   "source": [
    "class MnistModel(nn.Module):\n",
    "    \"\"\"Feedforward neural network with 1 hidden layer\"\"\" # This \"\"\"\"\"\" part is not perceived as a code.\n",
    "    def __init__(self, in_size, hidden_size, out_size):\n",
    "        super().__init__()\n",
    "        # hidden layer\n",
    "        self.linear1 = nn.Linear(in_size, hidden_size)\n",
    "        # output layer\n",
    "        self.linear2 = nn.Linear(hidden_size, out_size)\n",
    "        \n",
    "    def forward(self, xb):\n",
    "        # flatten the image tensors\n",
    "        xb = xb.view(xb.size(0), -1)\n",
    "        # get intermediate outputs using hidden layer\n",
    "        out = self.linear1(xb)\n",
    "        # apply activation function\n",
    "        out = F.relu(out)\n",
    "        # get predictions using output layer\n",
    "        out = self.linear2(out)\n",
    "        return out # Do not forget to return it!\n",
    "    \n",
    "    def training_step(self, batch):\n",
    "        images, labels = batch\n",
    "        out = self(images) # This part later works as model(images)\n",
    "        loss = F.cross_entropy(out, labels)\n",
    "        return loss\n",
    "    \n",
    "    def validation_step(self, batch):\n",
    "        images, labels = batch\n",
    "        out = self(images)\n",
    "        loss = F.cross_entropy(out, labels)\n",
    "        acc = accuracy(out, labels)\n",
    "        return { 'val_loss': loss, 'val_acc': acc }\n",
    "\n",
    "    def validation_epoch_end(self, outputs):\n",
    "        batch_losses = [x['val_loss'] for x in outputs ]\n",
    "        epoch_loss = torch.stack(batch_losses).mean()\n",
    "        batch_accs = [x['val_acc'] for x in outputs]\n",
    "        epoch_acc = torch.stack(batch_accs).mean()\n",
    "        return { 'val_loss': epoch_loss.item(), 'val_acc': epoch_acc.item() }\n",
    "    \n",
    "    def epoch_end(self, epoch, result):\n",
    "        print(\"Epoch [{}], val_loss: {:.4f}, val_acc: {:.4f}\".format(epoch, result['val_loss'], result['val_acc']))"
   ]
  },
  {
   "cell_type": "code",
   "execution_count": 4,
   "id": "0afc1ea4",
   "metadata": {},
   "outputs": [],
   "source": [
    "def accuracy(outputs, labels):\n",
    "    _, preds = torch.max(outputs, dim=1)\n",
    "    return torch.tensor(torch.sum(preds==labels).item() / len(preds))"
   ]
  },
  {
   "cell_type": "code",
   "execution_count": 5,
   "id": "4291d56c",
   "metadata": {},
   "outputs": [],
   "source": [
    "# torch.manual_seed(0)\n",
    "input_size=784\n",
    "hidden_size=32\n",
    "num_classes=10\n",
    "model=MnistModel(in_size=input_size, hidden_size=hidden_size, out_size=num_classes)"
   ]
  },
  {
   "cell_type": "code",
   "execution_count": 6,
   "id": "a398fddc",
   "metadata": {},
   "outputs": [
    {
     "name": "stdout",
     "output_type": "stream",
     "text": [
      "torch.Size([32, 784])\n",
      "torch.Size([32])\n",
      "torch.Size([10, 32])\n",
      "torch.Size([10])\n"
     ]
    }
   ],
   "source": [
    "for t in model.parameters():\n",
    "    print(t.shape)"
   ]
  },
  {
   "cell_type": "code",
   "execution_count": 7,
   "id": "d9629b41",
   "metadata": {},
   "outputs": [
    {
     "name": "stdout",
     "output_type": "stream",
     "text": [
      "Loss: 2.3219048976898193\n",
      "outputs.shape : torch.Size([128, 10])\n",
      "Sample outputs :\n",
      " tensor([[-0.0750,  0.1490, -0.1672,  0.0790,  0.0533, -0.1593,  0.0053, -0.0226,\n",
      "         -0.0271,  0.1055],\n",
      "        [ 0.0084,  0.0769, -0.1341,  0.0802,  0.0049, -0.2751, -0.0895, -0.1251,\n",
      "         -0.0241,  0.1025]])\n"
     ]
    }
   ],
   "source": [
    "for images, labels in train_loader:\n",
    "    outputs = model(images)\n",
    "    loss = F.cross_entropy(outputs, labels)\n",
    "    print('Loss:', loss.item())\n",
    "    break\n",
    "\n",
    "print('outputs.shape :', outputs.shape)\n",
    "print('Sample outputs :\\n', outputs[:2].data)"
   ]
  },
  {
   "cell_type": "markdown",
   "id": "05bc3f76",
   "metadata": {},
   "source": [
    "# 3. GPU coding"
   ]
  },
  {
   "cell_type": "markdown",
   "id": "e77c18de",
   "metadata": {},
   "source": [
    "* __torch.cuda.is.available()__ returns True if GPU is available.\n",
    "* If we want to use GPU in calculations, we need to convert every single tensor objects to GPU-setting (or cuda) from the default cpu-setting. This is done by ```data.to(device)``` in torch.\n",
    "* Every package has its own way of GPU-calculation, so we have to know how to convert it for each package."
   ]
  },
  {
   "cell_type": "code",
   "execution_count": 8,
   "id": "767ee286",
   "metadata": {},
   "outputs": [
    {
     "data": {
      "text/plain": [
       "True"
      ]
     },
     "execution_count": 8,
     "metadata": {},
     "output_type": "execute_result"
    }
   ],
   "source": [
    "torch.cuda.is_available()"
   ]
  },
  {
   "cell_type": "code",
   "execution_count": 9,
   "id": "cba2db28",
   "metadata": {},
   "outputs": [],
   "source": [
    "def get_default_device(): # If gpu is available, then switch to gpu.\n",
    "    \"\"\"Pick GPU if available, else CPU\"\"\"\n",
    "    if torch.cuda.is_available():\n",
    "        return torch.device('cuda')\n",
    "    else:\n",
    "        return torch.device('cpu')"
   ]
  },
  {
   "cell_type": "code",
   "execution_count": 10,
   "id": "22cb3805",
   "metadata": {},
   "outputs": [
    {
     "data": {
      "text/plain": [
       "device(type='cuda')"
      ]
     },
     "execution_count": 10,
     "metadata": {},
     "output_type": "execute_result"
    }
   ],
   "source": [
    "device = get_default_device()\n",
    "device"
   ]
  },
  {
   "cell_type": "markdown",
   "id": "19a1f67d",
   "metadata": {},
   "source": [
    "* ```isinstance(data, (list, tuple))``` : whether data is a list or tuple. Surprisingly list and a tuple is a class. In our case, we are concerned of the case when image is a list (tuple) of multiple tensors.\n",
    "* ```non_blocking=True ``` : When transmitting the data from cpu-type into gpu-type, we apply asynchronous transmission.\n",
    "* When sender synchronically transmits data to receiver, they send and receive it at the same time. To do this, we need an external clock in order for the sender to inform the receiver about the upcoming new byte. On the other hand, when the sender asyncrhonically transmits data to receiver, sending and receiving does not occur at the same time. Instead of using an external clock, they have separate clocks, using a stop bit and start bit, referred to as \"parity bits.\" Since they put extra bits other than the data itself, asynchronous transmission takes more time to transmit the data, but it is more economical, because they do not require an additional clock signal for synchronizing the sending and receiving. Refer to the following websites.\n",
    "* https://www.geeksforgeeks.org/difference-between-synchronous-and-asynchronous-transmission/\n",
    "* https://spell.ml/blog/pytorch-training-tricks-YAnJqBEAACkARhgD\n",
    "* https://www.geeksforgeeks.org/difference-between-synchronous-and-asynchronous-transmission/\n",
    "* https://pytorch.org/docs/stable/generated/torch.Tensor.to.html\n",
    "* https://www.youtube.com/watch?v=o7m1ytRt8es\n",
    "* In conclusion, it works totally fine and gives us the same result with non_blocking=False or True."
   ]
  },
  {
   "cell_type": "markdown",
   "id": "b8700812",
   "metadata": {},
   "source": [
    "* You may wonder why we need to define ```to_device(data, device)``` instead of merely returning ```data.to(device, non_blocking=True)```. If data is a single tensor object, we only need the latter. However in our case, each batch, which eventually becomes our input,is a tuple that contains two elements, both of which are tensor objects.\n",
    "* Note that inside ```def to_device```, we are using ```to_device```. This may seem to be nonsense, but this holds, because once it gets inside ```if isinstance(data, (list, tuple))```, it reaches ```to_device(x,device)``` where ```x``` is the first element in ```data```. Now since ```x``` is a single tensor, we repeat ```to_device``` again, this time applying to a single tensor."
   ]
  },
  {
   "cell_type": "code",
   "execution_count": 11,
   "id": "6bf05350",
   "metadata": {},
   "outputs": [],
   "source": [
    "def to_device(data, device):\n",
    "    \"\"\"Move tensor(s) to chosen device\"\"\"\n",
    "    if isinstance(data, (list, tuple)):\n",
    "        return [to_device(x, device) for x in data] # If it is a list (tuple), turn each element (tensor) into a cuda-controlled tensor.\n",
    "    return data.to(device, non_blocking = True) # This applies when data is neither list nor tuple.\n",
    "#    return data.to(device, non_blocking = False) "
   ]
  },
  {
   "cell_type": "markdown",
   "id": "a0efd1ae",
   "metadata": {},
   "source": [
    "* As soon as we reach return, everything stops. So in the case where if condition in add1() is satisfied, the second return does not count at all.\n",
    "* The same holds for add2(). The second return x+1 does not count at all. \n",
    "* This is the difference between ```return``` and ```yield```. While everything else stops once ```return``` is reached, ```yield``` keeps generating objects. "
   ]
  },
  {
   "cell_type": "code",
   "execution_count": 12,
   "id": "4543cfff",
   "metadata": {},
   "outputs": [
    {
     "data": {
      "text/plain": [
       "(3, 3)"
      ]
     },
     "execution_count": 12,
     "metadata": {},
     "output_type": "execute_result"
    }
   ],
   "source": [
    "def add1(x):\n",
    "    if x==1:\n",
    "        return x+2\n",
    "    return x+1\n",
    "add1(1), add1(2)"
   ]
  },
  {
   "cell_type": "code",
   "execution_count": 13,
   "id": "bed3f67b",
   "metadata": {},
   "outputs": [
    {
     "data": {
      "text/plain": [
       "(0, 0, 0, 0, 0)"
      ]
     },
     "execution_count": 13,
     "metadata": {},
     "output_type": "execute_result"
    }
   ],
   "source": [
    "def add2(x):\n",
    "    for i in range(10):\n",
    "        return i\n",
    "    return x+1\n",
    "add2(1), add2(2), add2(3), add2(4), add2(5)"
   ]
  },
  {
   "cell_type": "code",
   "execution_count": 14,
   "id": "b94f5d86",
   "metadata": {},
   "outputs": [
    {
     "data": {
      "text/plain": [
       "[tensor([1., 2., 3., 4.], device='cuda:0'),\n",
       " tensor([1., 2., 3., 4.], device='cuda:0')]"
      ]
     },
     "execution_count": 14,
     "metadata": {},
     "output_type": "execute_result"
    }
   ],
   "source": [
    "to_device( [torch.tensor([1.,2,3,4]), torch.tensor([1.,2,3,4])], device ) # converts each tensor in the list to cuda-based ones."
   ]
  },
  {
   "cell_type": "code",
   "execution_count": 15,
   "id": "197886d2",
   "metadata": {},
   "outputs": [
    {
     "name": "stdout",
     "output_type": "stream",
     "text": [
      "cpu\n",
      "cuda:0\n",
      "torch.Size([128, 1, 28, 28])\n"
     ]
    },
    {
     "data": {
      "text/plain": [
       "False"
      ]
     },
     "execution_count": 15,
     "metadata": {},
     "output_type": "execute_result"
    }
   ],
   "source": [
    "for images, labels in train_loader:\n",
    "    print(images.device) # Before to_device, it is originally cpu-based.\n",
    "    images = to_device(images, device)\n",
    "    print(images.device) # After to_device, it is originally cuda-based.\n",
    "    print(images.shape)\n",
    "    break\n",
    "isinstance(images, list)"
   ]
  },
  {
   "cell_type": "markdown",
   "id": "9176cc1c",
   "metadata": {},
   "source": [
    "* Without using ```to_device```, we can also use ```images.to(device, non_blocking=True)```, which is the original way of converting to cuda (gpu)."
   ]
  },
  {
   "cell_type": "code",
   "execution_count": 16,
   "id": "31b769a7",
   "metadata": {},
   "outputs": [
    {
     "name": "stdout",
     "output_type": "stream",
     "text": [
      "cpu\n",
      "cuda:0\n"
     ]
    }
   ],
   "source": [
    "for images, labels in train_loader:\n",
    "    print(images.device) # Before to_device, it is originally cpu-based.\n",
    "    images = images.to(device, non_blocking=True)\n",
    "    print(images.device) # After to_device, it is now cuda-based.\n",
    "    break"
   ]
  },
  {
   "cell_type": "code",
   "execution_count": 17,
   "id": "5a10e5fa",
   "metadata": {},
   "outputs": [
    {
     "name": "stdout",
     "output_type": "stream",
     "text": [
      "tensor([1., 2., 3., 4.])\n"
     ]
    },
    {
     "data": {
      "text/plain": [
       "tensor([1., 2., 3., 4.], device='cuda:0')"
      ]
     },
     "execution_count": 17,
     "metadata": {},
     "output_type": "execute_result"
    }
   ],
   "source": [
    "a = [torch.tensor([1.,2,3,4]), torch.tensor([1.,2,3,4])]\n",
    "a = torch.tensor([1,2,3,4.])\n",
    "print(a)\n",
    "b = [to_device(x, device) for x in a]\n",
    "a.to(device, non_blocking = True) \n",
    "# b.to(device, non_blocking = True) \n"
   ]
  },
  {
   "cell_type": "markdown",
   "id": "41abb240",
   "metadata": {},
   "source": [
    "* The reason we need ```to_device``` is because each batch is not a tensor, but a tuple with two different tensors.\n",
    "* Note that the instance of ```DeviceDataLoader()``` is an iterable, not an iterator, since it does not contain ```__next__```. Therefore, although it contains ```yield```, it is not a generator. In addition, it is not made from a function, which is another evidence that shows that it is not a generator.\n",
    "* Just because we input an iterable as the input in  a class (e.g. ```dl``` in the following example), it does not mean that the instance of that class automatically becomes an iterable object. Memorize the line under ```def __init__(self):``` in the following example."
   ]
  },
  {
   "cell_type": "markdown",
   "id": "aadacea4",
   "metadata": {},
   "source": [
    "Why do we define ```DeviceDataLoader()``` and not start everything from gpu?\n",
    "* If we start everything from gpu, then we would consume a lot of gpu memory. So we are only using gpu memory just as much as we need.\n",
    "* This partly explains why we are not using the whole validation data as a single batch. Although we are eventually going to use every single image in the validation data, we can be using less gpu memory if we split the validation data into multiple batches, because we are only going to transfer the samples in a single batch to the gpu memory."
   ]
  },
  {
   "cell_type": "code",
   "execution_count": 18,
   "id": "00d2a087",
   "metadata": {},
   "outputs": [],
   "source": [
    "class DeviceDataLoader():\n",
    "    \"\"\"Wrap a dataloader to move data to a device\"\"\"\n",
    "    def __init__(self, dl, device):\n",
    "        self.dl = dl\n",
    "        self.device = device\n",
    "        \n",
    "    def __iter__(self): ### MEMORIZE THIS PART AS A TEMPLATE.\n",
    "        \"\"\"Yield a batch of data after moving it to device\"\"\"\n",
    "        for b in self.dl: \n",
    "            yield to_device(b, self.device) # cannot be replaced with return.\n",
    "\n",
    "    def __len__(self):\n",
    "        \"\"\"Number of batches\"\"\"\n",
    "        return len(self.dl)"
   ]
  },
  {
   "cell_type": "markdown",
   "id": "b0f1d0dd",
   "metadata": {},
   "source": [
    "* After running the following box, by coding ```train_loader.dl```, we can extract the original train_loader that we defined, that is the DataLoader before converting to cuda."
   ]
  },
  {
   "cell_type": "code",
   "execution_count": 19,
   "id": "d04d23cc",
   "metadata": {},
   "outputs": [],
   "source": [
    "train_loader = DeviceDataLoader(train_loader, device)\n",
    "val_loader = DeviceDataLoader(val_loader, device)"
   ]
  },
  {
   "cell_type": "markdown",
   "id": "284eae2d",
   "metadata": {},
   "source": [
    "* With ```types.GeneratorType```. we can check whether an object is a generator or not, by the following way.\n",
    "* The object made by ```.__iter()___``` is a generator. None of the rest is a generator."
   ]
  },
  {
   "cell_type": "code",
   "execution_count": 20,
   "id": "cbb18840",
   "metadata": {},
   "outputs": [
    {
     "name": "stdout",
     "output_type": "stream",
     "text": [
      "False\n",
      "False\n",
      "False\n",
      "True\n"
     ]
    }
   ],
   "source": [
    "import types\n",
    "print(isinstance(train_loader, types.GeneratorType))\n",
    "print(isinstance(train_loader.dl, types.GeneratorType))\n",
    "print(isinstance(train_loader.__iter__, types.GeneratorType)) # a function that makes generator, not a generator\n",
    "print(isinstance(train_loader.__iter__(), types.GeneratorType)) # an output of that function, thereby a generator"
   ]
  },
  {
   "cell_type": "markdown",
   "id": "0cd96b79",
   "metadata": {},
   "source": [
    "* The following is a practice. Putting a list (which is iterable) as the input, the class does not instantiate as an iterable. In order to make it iterable, we put ```def __iter__(self)```."
   ]
  },
  {
   "cell_type": "code",
   "execution_count": 21,
   "id": "792c6470",
   "metadata": {},
   "outputs": [
    {
     "name": "stdout",
     "output_type": "stream",
     "text": [
      "5\n",
      "3\n",
      "7\n"
     ]
    }
   ],
   "source": [
    "class exampleclass():\n",
    "    def __init__(self, list):\n",
    "        self.list = list\n",
    "    \n",
    "    def __iter__(self): ### MEMORIZE THIS AS A TEMPLATE.\n",
    "        for element in self.list:\n",
    "            yield element\n",
    "            \n",
    "list1 = [5,3,7]\n",
    "ex1 = exampleclass(list1)\n",
    "for x in ex1:\n",
    "    print(x)"
   ]
  },
  {
   "cell_type": "markdown",
   "id": "b7db741b",
   "metadata": {},
   "source": [
    "* Because we defined ```__len__(self)``` in the above class, we can now define ```len(train_loader)``` and ```len(val_loader)```, which means the number of batches. Do not be confused with the number of sample within each batch. Without defining ```__len__(self)``` in ```class DeviceDataLoader()```, we cannot run ```len``` on the instance, which are train_loader and val_loader in our case.\n",
    "* Without ```__len__(self)``` inside defining the class, we can still reach our final goal (training the model and evaluating the accuracy using the validation or test dataset, since we do not obtain the length of any object.\n",
    "* Before replacing train_loader with ```train_loader = DeviceDataLoader(train_loader, device)```, we could run ```len(train_loader)```. But after redefining it to be a DeviceDataLoader, we could not use ```len()``` to it. In order for us to run it, we are coding ```def __len__(self)``` inside the class. In our example, we ```self.dl``` indicates the original train_loader before replacement, where we could run ```len()```.\n",
    "* Of course instead of ```__len__```, we may define ```lena(self)``` in the same way. Then ```train_loader()``` returns ```len(self.dl)```, however we cannot run ```lena(train_loader)```, taking train_loader as an input. Thus it is necessary to define ```__len__(self)``` in order to enable ```len(train_loader)``` to take train_loader as an input.\n",
    "* In other words, ```def __len__(self)``` enables us to use ```len(instance)```."
   ]
  },
  {
   "cell_type": "code",
   "execution_count": 22,
   "id": "3fc0aa72",
   "metadata": {},
   "outputs": [
    {
     "data": {
      "text/plain": [
       "(391, 40)"
      ]
     },
     "execution_count": 22,
     "metadata": {},
     "output_type": "execute_result"
    }
   ],
   "source": [
    "len(train_loader), len(val_loader)\n",
    "\n",
    "# # confirming that it is indeed the number of batches.\n",
    "# iter = 0\n",
    "# for xb, yb in train_loader:\n",
    "#     iter+=1\n",
    "# print(iter)\n",
    "\n",
    "# iter = 0\n",
    "# for xb, yb in val_loader:\n",
    "#     iter+=1\n",
    "# print(iter)"
   ]
  },
  {
   "cell_type": "markdown",
   "id": "8d668c5a",
   "metadata": {},
   "source": [
    "* Like shown below, both ```xb``` and ```yb``` has to run in cuda, since both of them are part of calculations."
   ]
  },
  {
   "cell_type": "code",
   "execution_count": 23,
   "id": "22619699",
   "metadata": {},
   "outputs": [
    {
     "name": "stdout",
     "output_type": "stream",
     "text": [
      "xb.device: cuda:0\n",
      "yb: tensor([3, 6, 9, 7, 2, 2, 9, 0, 8, 5, 9, 7, 5, 5, 5, 5, 2, 5, 9, 4, 4, 6, 0, 3,\n",
      "        1, 0, 7, 9, 1, 9, 4, 7, 6, 6, 4, 5, 6, 0, 3, 9, 1, 5, 4, 5, 0, 8, 5, 2,\n",
      "        0, 5, 4, 8, 3, 9, 2, 5, 9, 9, 8, 0, 9, 2, 4, 4, 3, 5, 0, 3, 9, 3, 6, 9,\n",
      "        8, 8, 8, 9, 3, 5, 3, 7, 4, 5, 8, 4, 2, 5, 2, 9, 6, 0, 6, 4, 5, 2, 7, 2,\n",
      "        5, 3, 2, 6, 9, 3, 5, 1, 4, 5, 8, 4, 5, 1, 0, 3, 1, 1, 2, 2, 2, 0, 7, 4,\n",
      "        5, 3, 8, 3, 2, 5, 8, 1, 4, 5, 4, 9, 2, 7, 8, 0, 9, 6, 6, 1, 3, 2, 8, 5,\n",
      "        4, 2, 4, 1, 3, 6, 2, 7, 8, 7, 0, 0, 7, 2, 1, 1, 6, 5, 4, 8, 2, 7, 7, 5,\n",
      "        2, 4, 4, 8, 7, 9, 9, 0, 8, 1, 8, 7, 6, 6, 4, 1, 3, 5, 5, 5, 0, 1, 5, 5,\n",
      "        7, 9, 0, 2, 4, 3, 1, 7, 3, 2, 3, 9, 7, 9, 9, 6, 6, 0, 1, 6, 1, 9, 8, 2,\n",
      "        1, 6, 9, 5, 2, 5, 6, 1, 3, 0, 9, 6, 9, 2, 1, 0, 1, 2, 6, 9, 9, 9, 6, 0,\n",
      "        3, 3, 5, 6, 4, 4, 1, 6, 3, 6, 0, 1, 0, 0, 8, 5], device='cuda:0')\n"
     ]
    }
   ],
   "source": [
    "for xb, yb in val_loader:\n",
    "    print('xb.device:', xb.device)\n",
    "    print('yb:', yb)\n",
    "    break"
   ]
  },
  {
   "cell_type": "markdown",
   "id": "1df0efb5",
   "metadata": {},
   "source": [
    "# 4. Training the model"
   ]
  },
  {
   "cell_type": "code",
   "execution_count": 24,
   "id": "17c3b1fe",
   "metadata": {},
   "outputs": [],
   "source": [
    "def evaluate(model, val_loader):\n",
    "    \"\"\"Evaluate the model's performance on the validation set\"\"\"\n",
    "    outputs = [model.validation_step(batch) for batch in val_loader]\n",
    "    return model.validation_epoch_end(outputs)\n",
    "\n",
    "def fit(epochs, lr, model, train_loader, val_loader, opt_func = torch.optim.SGD):\n",
    "    history=[]\n",
    "    optimizer = opt_func(model.parameters(), lr)\n",
    "    for epoch in range(epochs):\n",
    "        \n",
    "        # Training phase\n",
    "        for batch in train_loader:\n",
    "            loss = model.training_step(batch)\n",
    "            loss.backward()\n",
    "            optimizer.step()\n",
    "            optimizer.zero_grad()\n",
    "        \n",
    "        # Validation phase\n",
    "        result = evaluate(model, val_loader)\n",
    "        model.epoch_end(epoch, result)\n",
    "        history.append(result)\n",
    "    return history"
   ]
  },
  {
   "cell_type": "markdown",
   "id": "78d4db94",
   "metadata": {},
   "source": [
    "* An instance of ```MnistModel``` has parameters, which need to be calculated in cuda.\n",
    "* ```to_device(model, device)``` or ```model.to(device)``` converts the device to cuda.\n",
    "* Regarding ```~.to(device)```, there is a significant difference according to whether it is a tensor or a model.\n",
    "\n",
    "> ```tensor.to(torch.device(\"cuda\"))```:  The device of tensor does not convert to cuda. Therefore we need to define ```tensor1 = tensor.to(torch.device(\"cuda\"))``` that has the same elements but run in cuda.\n",
    "\n",
    "> ```model.to(torch.device(\"cuda\"))```: The parameters() are converted to cuda objects. We do not have to define a new model like ```model1 = model.to(torch.device(\"cuda\"))```."
   ]
  },
  {
   "cell_type": "code",
   "execution_count": 25,
   "id": "9ec73d1b",
   "metadata": {},
   "outputs": [
    {
     "name": "stdout",
     "output_type": "stream",
     "text": [
      "cpu\n",
      "cuda:0\n"
     ]
    }
   ],
   "source": [
    "model = MnistModel(input_size, hidden_size=hidden_size, out_size = num_classes)\n",
    "for par in model.parameters():\n",
    "    print(par.device)\n",
    "    break\n",
    "    \n",
    "model.to(device)  # Run in GPU\n",
    "for par in model.parameters():\n",
    "    print(par.device)\n",
    "    break"
   ]
  },
  {
   "cell_type": "markdown",
   "id": "09c81415",
   "metadata": {},
   "source": [
    "* https://docs.python.org/3/library/time.html#time.process_time exact documentation regarding the package ```time```\n",
    "* ```time.time()``` : measure time in seconds. \n",
    "* ```time.process_time()``` : sum up the time that each processor (cpus) used in processing."
   ]
  },
  {
   "cell_type": "code",
   "execution_count": 1,
   "id": "caac813e",
   "metadata": {},
   "outputs": [],
   "source": [
    "import time\n",
    "# t_begin = time.process_time() \n",
    "t_begin = time.time() "
   ]
  },
  {
   "cell_type": "code",
   "execution_count": 26,
   "id": "e31e466f",
   "metadata": {
    "scrolled": true
   },
   "outputs": [
    {
     "name": "stdout",
     "output_type": "stream",
     "text": [
      "Epoch [0], val_loss: 0.2707, val_acc: 0.9191\n",
      "Epoch [1], val_loss: 0.2028, val_acc: 0.9371\n",
      "Epoch [2], val_loss: 0.1454, val_acc: 0.9557\n",
      "Epoch [3], val_loss: 0.1356, val_acc: 0.9585\n",
      "Epoch [4], val_loss: 0.1213, val_acc: 0.9642\n"
     ]
    }
   ],
   "source": [
    "history = fit(5, 0.5, model, train_loader, val_loader)"
   ]
  },
  {
   "cell_type": "code",
   "execution_count": null,
   "id": "67d0ffc2",
   "metadata": {},
   "outputs": [],
   "source": [
    "# t_end = time.process_time() \n",
    "t_end = time.time() \n",
    "print('Took {} seconds'.format(t_end-t_begin))"
   ]
  },
  {
   "cell_type": "code",
   "execution_count": 27,
   "id": "c6e69386",
   "metadata": {
    "scrolled": true
   },
   "outputs": [
    {
     "data": {
      "text/plain": [
       "Text(0.5, 1.0, 'Loss vs No. of epochs')"
      ]
     },
     "execution_count": 27,
     "metadata": {},
     "output_type": "execute_result"
    },
    {
     "data": {
      "image/png": "[encoded data removed]",
      "text/plain": [
       "<Figure size 432x288 with 1 Axes>"
      ]
     },
     "metadata": {
      "needs_background": "light"
     },
     "output_type": "display_data"
    }
   ],
   "source": [
    "losses = [x['val_loss'] for x in history]\n",
    "plt.plot(losses, '-x')\n",
    "plt.xlabel('epoch')\n",
    "plt.ylabel('loss')\n",
    "plt.title('Loss vs No. of epochs')"
   ]
  },
  {
   "cell_type": "markdown",
   "id": "6b5b26ba",
   "metadata": {},
   "source": [
    "* We concatenate the history with +=fit ~~."
   ]
  },
  {
   "cell_type": "code",
   "execution_count": 28,
   "id": "a45a5a6d",
   "metadata": {},
   "outputs": [
    {
     "data": {
      "text/plain": [
       "[1, 2, 3, 1]"
      ]
     },
     "execution_count": 28,
     "metadata": {},
     "output_type": "execute_result"
    }
   ],
   "source": [
    "aaa = [1,2,3]\n",
    "aaa += [1]\n",
    "aaa"
   ]
  },
  {
   "cell_type": "code",
   "execution_count": 29,
   "id": "b924274d",
   "metadata": {},
   "outputs": [
    {
     "name": "stdout",
     "output_type": "stream",
     "text": [
      "Epoch [0], val_loss: 0.1057, val_acc: 0.9662\n",
      "Epoch [1], val_loss: 0.1040, val_acc: 0.9683\n"
     ]
    }
   ],
   "source": [
    "history += fit(2, 0.1, model, train_loader, val_loader)"
   ]
  },
  {
   "cell_type": "markdown",
   "id": "957970d2",
   "metadata": {},
   "source": [
    "* ```plt.subplot(number of rows, number of columns, pane index)```: This is how we set the pane index.\n",
    "* Every time we draw a new plot, we determine the index by running this code. If we do not, they just plot two different lines in the same single plot."
   ]
  },
  {
   "cell_type": "code",
   "execution_count": 30,
   "id": "c2677b02",
   "metadata": {},
   "outputs": [
    {
     "data": {
      "text/plain": [
       "Text(0.5, 1.0, 'Accuracy vs No. of epochs')"
      ]
     },
     "execution_count": 30,
     "metadata": {},
     "output_type": "execute_result"
    },
    {
     "data": {
      "image/png": "[encoded data removed]",
      "text/plain": [
       "<Figure size 432x288 with 2 Axes>"
      ]
     },
     "metadata": {
      "needs_background": "light"
     },
     "output_type": "display_data"
    }
   ],
   "source": [
    "losses = [x['val_loss'] for x in history]\n",
    "accuracies = [x['val_acc'] for x in history]\n",
    "\n",
    "plt.subplot(1,2,1)\n",
    "indices = list(range(len(history) + 1))\n",
    "indices.remove(0)\n",
    "plt.plot(indices, losses, '-x')\n",
    "plt.xlabel('epoch')\n",
    "plt.ylabel('loss')\n",
    "plt.title('Loss vs No. of epochs')\n",
    "\n",
    "plt.subplot(1,2,2) # If we comment this line out, they graph two lines on the same plot.\n",
    "plt.plot(indices, accuracies, '-x')\n",
    "plt.xlabel('epoch')\n",
    "plt.ylabel('accuracy')\n",
    "plt.title('Accuracy vs No. of epochs')"
   ]
  },
  {
   "cell_type": "markdown",
   "id": "5cf73d86",
   "metadata": {},
   "source": [
    "# 5. Test the Model"
   ]
  },
  {
   "cell_type": "code",
   "execution_count": 31,
   "id": "b80eaead",
   "metadata": {},
   "outputs": [],
   "source": [
    "test_dataset = MNIST(root='data/', train=False, transform=ToTensor())"
   ]
  },
  {
   "cell_type": "markdown",
   "id": "7ce23db3",
   "metadata": {},
   "source": [
    "### predict individual objects"
   ]
  },
  {
   "cell_type": "code",
   "execution_count": 32,
   "id": "6313184b",
   "metadata": {},
   "outputs": [],
   "source": [
    "def predict_image(img, model):\n",
    "    xb = to_device(img.unsqueeze(0), device)\n",
    "    yb = model(xb)\n",
    "    _, preds = torch.max(yb, dim=1)\n",
    "    return preds[0].item()"
   ]
  },
  {
   "cell_type": "code",
   "execution_count": 33,
   "id": "6e101f3c",
   "metadata": {
    "scrolled": true
   },
   "outputs": [
    {
     "name": "stdout",
     "output_type": "stream",
     "text": [
      "Label: 7 , Predicted: 7\n"
     ]
    },
    {
     "data": {
      "image/png": "[encoded data removed]",
      "text/plain": [
       "<Figure size 432x288 with 1 Axes>"
      ]
     },
     "metadata": {
      "needs_background": "light"
     },
     "output_type": "display_data"
    }
   ],
   "source": [
    "img, label = test_dataset[0]\n",
    "plt.imshow(img[0], cmap='gray')\n",
    "print('Label:', label, ', Predicted:', predict_image(img, model))"
   ]
  },
  {
   "cell_type": "markdown",
   "id": "17f62360",
   "metadata": {},
   "source": [
    "### assess overall accuracy "
   ]
  },
  {
   "cell_type": "code",
   "execution_count": 34,
   "id": "cccbd5be",
   "metadata": {},
   "outputs": [
    {
     "data": {
      "text/plain": [
       "{'val_loss': 0.10608167946338654, 'val_acc': 0.9666992425918579}"
      ]
     },
     "execution_count": 34,
     "metadata": {},
     "output_type": "execute_result"
    }
   ],
   "source": [
    "test_loader = DeviceDataLoader(DataLoader(test_dataset, batch_size=256), device)\n",
    "result = evaluate(model, test_loader)\n",
    "result"
   ]
  },
  {
   "cell_type": "code",
   "execution_count": null,
   "id": "499eee73",
   "metadata": {},
   "outputs": [],
   "source": []
  },
  {
   "cell_type": "code",
   "execution_count": null,
   "id": "6031475d",
   "metadata": {},
   "outputs": [],
   "source": []
  }
 ],
 "metadata": {
  "kernelspec": {
   "display_name": "Python 3 (ipykernel)",
   "language": "python",
   "name": "python3"
  },
  "language_info": {
   "codemirror_mode": {
    "name": "ipython",
    "version": 3
   },
   "file_extension": ".py",
   "mimetype": "text/x-python",
   "name": "python",
   "nbconvert_exporter": "python",
   "pygments_lexer": "ipython3",
   "version": "3.9.13"
  }
 },
 "nbformat": 4,
 "nbformat_minor": 5
}
