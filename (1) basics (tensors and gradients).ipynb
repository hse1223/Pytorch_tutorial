{
 "cells": [
  {
   "cell_type": "markdown",
   "id": "80693c0a",
   "metadata": {},
   "source": [
    "* https://jovian.ai/aakashns/01-pytorch-basics"
   ]
  },
  {
   "cell_type": "code",
   "execution_count": 1,
   "id": "731b6ac6",
   "metadata": {
    "scrolled": true
   },
   "outputs": [
    {
     "name": "stdout",
     "output_type": "stream",
     "text": [
      "1.10.0\n"
     ]
    }
   ],
   "source": [
    "import torch\n",
    "print(torch.__version__)\n",
    "import numpy as np"
   ]
  },
  {
   "cell_type": "markdown",
   "id": "6da44447",
   "metadata": {},
   "source": [
    "### tensor objects"
   ]
  },
  {
   "cell_type": "code",
   "execution_count": 5,
   "id": "418337eb",
   "metadata": {
    "scrolled": true
   },
   "outputs": [
    {
     "name": "stdout",
     "output_type": "stream",
     "text": [
      "tensor(4.)\n",
      "torch.float32\n",
      "torch.Size([])\n"
     ]
    }
   ],
   "source": [
    "t1=torch.tensor(4.)\n",
    "print(t1)\n",
    "print(t1.dtype)\n",
    "print(t1.shape)"
   ]
  },
  {
   "cell_type": "code",
   "execution_count": 6,
   "id": "e5e07779",
   "metadata": {},
   "outputs": [
    {
     "name": "stdout",
     "output_type": "stream",
     "text": [
      "tensor([1., 2., 3., 4.])\n",
      "torch.float32\n",
      "torch.Size([4])\n"
     ]
    }
   ],
   "source": [
    "t2=torch.tensor([1.,2,3,4]) # letting one element to be float, all elements become float.\n",
    "print(t2)\n",
    "print(t2.dtype)\n",
    "print(t2.shape)"
   ]
  },
  {
   "cell_type": "code",
   "execution_count": 7,
   "id": "99eaae04",
   "metadata": {},
   "outputs": [
    {
     "name": "stdout",
     "output_type": "stream",
     "text": [
      "tensor([[ 5.,  6.],\n",
      "        [ 7.,  8.],\n",
      "        [ 9., 10.]])\n",
      "torch.float32\n",
      "torch.Size([3, 2])\n"
     ]
    }
   ],
   "source": [
    "t3=torch.tensor(\n",
    "[[5.,6],\n",
    "[7, 8],\n",
    "[9,10]]  ) \n",
    "print(t3)\n",
    "print(t3.dtype)\n",
    "print(t3.shape)"
   ]
  },
  {
   "cell_type": "code",
   "execution_count": 8,
   "id": "1538fa68",
   "metadata": {},
   "outputs": [
    {
     "name": "stdout",
     "output_type": "stream",
     "text": [
      "tensor([[[11., 12., 13.],\n",
      "         [13., 14., 15.]],\n",
      "\n",
      "        [[15., 16., 17.],\n",
      "         [17., 18., 19.]]])\n",
      "torch.float32\n",
      "torch.Size([2, 2, 3])\n"
     ]
    }
   ],
   "source": [
    "t4=torch.tensor([\n",
    "  [[11.,12,13],\n",
    "  [13,14,15 ]],\n",
    "  [[15,16,17],\n",
    "  [17,18,19]]\n",
    "] )\n",
    "print(t4)\n",
    "print(t4.dtype)\n",
    "print(t4.shape)"
   ]
  },
  {
   "cell_type": "markdown",
   "id": "97a1c8e4",
   "metadata": {},
   "source": [
    "* Indexing is a little confusing, since it is different from R.\n",
    "The reading order is which matrix > which row > which column."
   ]
  },
  {
   "cell_type": "code",
   "execution_count": 9,
   "id": "56c61ec6",
   "metadata": {},
   "outputs": [
    {
     "name": "stdout",
     "output_type": "stream",
     "text": [
      "tensor([[11., 12., 13.],\n",
      "        [13., 14., 15.]])\n",
      "tensor([[11., 12., 13.],\n",
      "        [15., 16., 17.]])\n",
      "tensor([[11., 13.],\n",
      "        [15., 17.]])\n",
      "tensor(18.)\n"
     ]
    }
   ],
   "source": [
    "print(t4[0,:,:]) # indexing is different from R.\n",
    "print(t4[:,0,:]) # which matrix > which row > which column\n",
    "print(t4[:,:,0])\n",
    "print(t4[1,1,1])"
   ]
  },
  {
   "cell_type": "code",
   "execution_count": 10,
   "id": "f887827f",
   "metadata": {
    "scrolled": true
   },
   "outputs": [
    {
     "name": "stdout",
     "output_type": "stream",
     "text": [
      "tensor([[[1.3563e-19, 4.5156e+27, 1.8529e+28],\n",
      "         [1.8037e+28, 4.6894e+27, 7.2251e+28]],\n",
      "\n",
      "        [[1.3556e-19, 4.8948e+30, 1.6534e+19],\n",
      "         [6.7421e+22, 1.5766e-19, 1.1578e+27]],\n",
      "\n",
      "        [[1.3563e-19, 1.3563e-19, 1.8311e+25],\n",
      "         [5.0832e+31, 1.2119e+25, 1.8611e+34]],\n",
      "\n",
      "        [[2.0283e-19, 7.1449e+31, 2.6301e+20],\n",
      "         [7.1833e+22, 1.1704e-19, 7.3845e+20]]])\n"
     ]
    }
   ],
   "source": [
    "x = torch.empty(4,2,3)\n",
    "print(x)"
   ]
  },
  {
   "cell_type": "markdown",
   "id": "13242a2c",
   "metadata": {},
   "source": [
    "* We can convert np.array into torch.tensor.\n",
    "* Although they look the same, torch.tensor can pull off greater things, including autogradient and GPU operations."
   ]
  },
  {
   "cell_type": "code",
   "execution_count": 11,
   "id": "3462ca61",
   "metadata": {},
   "outputs": [
    {
     "name": "stdout",
     "output_type": "stream",
     "text": [
      "float64\n",
      "torch.float64\n"
     ]
    }
   ],
   "source": [
    "x=np.array(\n",
    "[[1.,2],\n",
    "[3,4]])\n",
    "x\n",
    "y=torch.from_numpy(x)\n",
    "print(x.dtype) # numpy data\n",
    "print(y.dtype) # torch data"
   ]
  },
  {
   "cell_type": "markdown",
   "id": "0a9a2205",
   "metadata": {},
   "source": [
    "### indicing & reshape(-1, .. )"
   ]
  },
  {
   "cell_type": "markdown",
   "id": "51d87ab9",
   "metadata": {},
   "source": [
    "* A tensor object with shape = (d1, d2, d3) means that the tensor object is a 3-d array, with 1st-size=d1, 2nd-size=d2, 3rd-size=d3.\n",
    "* There are three layers of brackets. most outer layer bracket: 1 / second outer layer bracket: d1 / third outer layer (or the most inner layter) bracket: d2 / number of elements in the most inner bracket: d3.\n",
    "* We can observe that obj has 2 matrices with two brackets [[]]. $\\rightarrow$ d1=2\n",
    "* Each 1st element contains 3 objects with one bracket []. $\\rightarrow$ d2=3.\n",
    "* Each 2nd element contains 4 elements. $\\rightarrow$ d3=4.\n",
    "* So the shape of the obj is torch.Size(2,3,4)."
   ]
  },
  {
   "cell_type": "markdown",
   "id": "ccbdc258",
   "metadata": {},
   "source": [
    "* matrix (d1, d2) : d1-by-d2 matrix\n",
    "* 3-d array (d1, d2, d3) : d1 matrices, each being d2-by-d3."
   ]
  },
  {
   "cell_type": "code",
   "execution_count": 12,
   "id": "5ea59dbf",
   "metadata": {},
   "outputs": [
    {
     "name": "stdout",
     "output_type": "stream",
     "text": [
      "tensor([[[1, 2, 3, 1],\n",
      "         [3, 4, 1, 4],\n",
      "         [3, 4, 1, 4]],\n",
      "\n",
      "        [[1, 2, 3, 1],\n",
      "         [3, 4, 3, 1],\n",
      "         [3, 4, 3, 1]]])\n"
     ]
    },
    {
     "data": {
      "text/plain": [
       "torch.Size([2, 3, 4])"
      ]
     },
     "execution_count": 12,
     "metadata": {},
     "output_type": "execute_result"
    }
   ],
   "source": [
    "obj = torch.tensor([[[1,2,3,1],[3,4,1,4],[3,4,1,4]], [[1,2,3,1],[3,4,3,1],[3,4,3,1]]])\n",
    "print(obj)\n",
    "obj.shape"
   ]
  },
  {
   "cell_type": "markdown",
   "id": "027911ba",
   "metadata": {},
   "source": [
    "* If we align all the elements in a single order, the order starts from the very inner bracket. $\\rightarrow$ In the above example, it is 1,2,3,1,3,4,1,4, $\\cdots$.\n",
    "* reshape(-1, ~) : -1 means match the size accordingly.\n",
    "* reshape(-1) : form it as a 1-d array (vector).\n",
    "* reshape(-1, d1): form it as a 2-d array (matrix), with the 2nd-size=d1.\n",
    "* reshape(-1, d1, d2): form it as a 3-d array, with the 2nd-size=d1 and 3rd-size=d2."
   ]
  },
  {
   "cell_type": "code",
   "execution_count": 13,
   "id": "8c4fb8c7",
   "metadata": {},
   "outputs": [
    {
     "name": "stdout",
     "output_type": "stream",
     "text": [
      "tensor([[1, 2],\n",
      "        [3, 4]])\n",
      "tensor([1, 2, 3, 4])\n",
      "tensor([[1],\n",
      "        [2],\n",
      "        [3],\n",
      "        [4]])\n",
      "tensor([[1, 2, 3, 4]])\n"
     ]
    }
   ],
   "source": [
    "print(torch.tensor([[1,2],[3,4]]))\n",
    "print(torch.tensor([[1,2],[3,4]]).reshape(-1)) # a single vector that lines up in the order mentioned above.\n",
    "print(torch.tensor([[1,2],[3,4]]).reshape(-1,1)) \n",
    "print(torch.tensor([[1,2],[3,4]]).reshape(1,-1))"
   ]
  },
  {
   "cell_type": "code",
   "execution_count": 14,
   "id": "d0d4d99d",
   "metadata": {
    "scrolled": true
   },
   "outputs": [
    {
     "name": "stdout",
     "output_type": "stream",
     "text": [
      "tensor([[[1, 2, 3, 1],\n",
      "         [3, 4, 1, 4],\n",
      "         [3, 4, 1, 4]],\n",
      "\n",
      "        [[1, 2, 3, 1],\n",
      "         [3, 4, 3, 1],\n",
      "         [3, 4, 3, 1]]])\n",
      "tensor([1, 2, 3, 1, 3, 4, 1, 4, 3, 4, 1, 4, 1, 2, 3, 1, 3, 4, 3, 1, 3, 4, 3, 1])\n",
      "tensor([[1, 2],\n",
      "        [3, 1],\n",
      "        [3, 4],\n",
      "        [1, 4],\n",
      "        [3, 4],\n",
      "        [1, 4],\n",
      "        [1, 2],\n",
      "        [3, 1],\n",
      "        [3, 4],\n",
      "        [3, 1],\n",
      "        [3, 4],\n",
      "        [3, 1]])\n",
      "tensor([[[1, 2, 3],\n",
      "         [1, 3, 4]],\n",
      "\n",
      "        [[1, 4, 3],\n",
      "         [4, 1, 4]],\n",
      "\n",
      "        [[1, 2, 3],\n",
      "         [1, 3, 4]],\n",
      "\n",
      "        [[3, 1, 3],\n",
      "         [4, 3, 1]]])\n"
     ]
    }
   ],
   "source": [
    "print(obj)\n",
    "print(obj.reshape(-1)) # 1-d array\n",
    "print(obj.reshape(-1, 2)) # 2-d array with 2nd-size=2 (2 columns)\n",
    "print(obj.reshape(-1,2,3)) # 3-d array with 2nd-size=2, 3rd-size=3 (each matrix having 2-by-3 size.)"
   ]
  },
  {
   "cell_type": "markdown",
   "id": "d766efb8",
   "metadata": {},
   "source": [
    "### Other functionalities"
   ]
  },
  {
   "cell_type": "code",
   "execution_count": 15,
   "id": "ae37c27e",
   "metadata": {},
   "outputs": [
    {
     "name": "stdout",
     "output_type": "stream",
     "text": [
      "tensor([[42, 42],\n",
      "        [42, 42],\n",
      "        [42, 42]])\n"
     ]
    }
   ],
   "source": [
    "t6=torch.full((3,2),42)\n",
    "print(t6)"
   ]
  },
  {
   "cell_type": "code",
   "execution_count": 16,
   "id": "c6cc9760",
   "metadata": {},
   "outputs": [
    {
     "name": "stdout",
     "output_type": "stream",
     "text": [
      "tensor([[ 5.,  6.],\n",
      "        [ 7.,  8.],\n",
      "        [ 9., 10.],\n",
      "        [42., 42.],\n",
      "        [42., 42.],\n",
      "        [42., 42.]])\n"
     ]
    }
   ],
   "source": [
    "t7=torch.cat((t3,t6)) # cat = rbind\n",
    "print(t7)"
   ]
  },
  {
   "cell_type": "code",
   "execution_count": 17,
   "id": "46a5e58b",
   "metadata": {},
   "outputs": [
    {
     "name": "stdout",
     "output_type": "stream",
     "text": [
      "tensor([[-0.9589, -0.2794],\n",
      "        [ 0.6570,  0.9894],\n",
      "        [ 0.4121, -0.5440],\n",
      "        [-0.9165, -0.9165],\n",
      "        [-0.9165, -0.9165],\n",
      "        [-0.9165, -0.9165]])\n",
      "tensor([[[-0.9589, -0.2794],\n",
      "         [ 0.6570,  0.9894]],\n",
      "\n",
      "        [[ 0.4121, -0.5440],\n",
      "         [-0.9165, -0.9165]],\n",
      "\n",
      "        [[-0.9165, -0.9165],\n",
      "         [-0.9165, -0.9165]]])\n"
     ]
    }
   ],
   "source": [
    "t8=torch.sin(t7)\n",
    "print(t8)\n",
    "t9=t8.reshape(3,2,2)\n",
    "print(t9)"
   ]
  },
  {
   "cell_type": "markdown",
   "id": "3d40553a",
   "metadata": {},
   "source": [
    "### gradient"
   ]
  },
  {
   "cell_type": "code",
   "execution_count": 18,
   "id": "0a1f8140",
   "metadata": {},
   "outputs": [],
   "source": [
    "x=torch.tensor(3.)\n",
    "w=torch.tensor(4., requires_grad=True) # Only float and complex be applied with gradient, not integers.\n",
    "b=torch.tensor(5., requires_grad=True)"
   ]
  },
  {
   "cell_type": "code",
   "execution_count": 19,
   "id": "ec753a21",
   "metadata": {},
   "outputs": [
    {
     "data": {
      "text/plain": [
       "tensor(17., grad_fn=<AddBackward0>)"
      ]
     },
     "execution_count": 19,
     "metadata": {},
     "output_type": "execute_result"
    }
   ],
   "source": [
    "y=w*x + b # They remember this equation when we obtain the gradient of y w.r.t. other variables.\n",
    "y"
   ]
  },
  {
   "cell_type": "markdown",
   "id": "69c56dc0",
   "metadata": {},
   "source": [
    "* If we want to get the gradient, we first need to do y.backward().\n",
    "* We get an error if we run it twice. We can do it if we redefine y=w*x+b."
   ]
  },
  {
   "cell_type": "code",
   "execution_count": 20,
   "id": "d598b6c4",
   "metadata": {
    "scrolled": true
   },
   "outputs": [
    {
     "name": "stdout",
     "output_type": "stream",
     "text": [
      "dy/dx: None\n",
      "dy/dw: tensor(3.)\n",
      "dy/db: tensor(1.)\n"
     ]
    }
   ],
   "source": [
    "y.backward() \n",
    "print('dy/dx:',x.grad) # x is a fixed variable, so we cannot differentiate w.r.t. x.\n",
    "print('dy/dw:',w.grad)\n",
    "print('dy/db:',b.grad)"
   ]
  },
  {
   "cell_type": "code",
   "execution_count": null,
   "id": "39050f36",
   "metadata": {},
   "outputs": [],
   "source": []
  },
  {
   "cell_type": "code",
   "execution_count": null,
   "id": "5499b327",
   "metadata": {},
   "outputs": [],
   "source": []
  },
  {
   "cell_type": "code",
   "execution_count": null,
   "id": "5e7a6f70",
   "metadata": {},
   "outputs": [],
   "source": []
  },
  {
   "cell_type": "code",
   "execution_count": null,
   "id": "87791d9b",
   "metadata": {},
   "outputs": [],
   "source": []
  },
  {
   "cell_type": "code",
   "execution_count": null,
   "id": "d86dcf7e",
   "metadata": {},
   "outputs": [],
   "source": []
  },
  {
   "cell_type": "code",
   "execution_count": null,
   "id": "a4cbb1bb",
   "metadata": {},
   "outputs": [],
   "source": []
  },
  {
   "cell_type": "code",
   "execution_count": null,
   "id": "468c8230",
   "metadata": {},
   "outputs": [],
   "source": []
  },
  {
   "cell_type": "code",
   "execution_count": null,
   "id": "f7ff2cbd",
   "metadata": {},
   "outputs": [],
   "source": []
  }
 ],
 "metadata": {
  "kernelspec": {
   "display_name": "Python 3",
   "language": "python",
   "name": "python3"
  },
  "language_info": {
   "codemirror_mode": {
    "name": "ipython",
    "version": 3
   },
   "file_extension": ".py",
   "mimetype": "text/x-python",
   "name": "python",
   "nbconvert_exporter": "python",
   "pygments_lexer": "ipython3",
   "version": "3.8.8"
  }
 },
 "nbformat": 4,
 "nbformat_minor": 5
}
