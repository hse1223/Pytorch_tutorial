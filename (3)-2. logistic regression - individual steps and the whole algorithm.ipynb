{
 "cells": [
  {
   "cell_type": "markdown",
   "id": "b7924e98",
   "metadata": {},
   "source": [
    "# <PART 1: Individual steps>"
   ]
  },
  {
   "cell_type": "code",
   "execution_count": 1,
   "id": "88dfff17",
   "metadata": {},
   "outputs": [],
   "source": [
    "import torch\n",
    "# import torchvision\n",
    "from torchvision.datasets import MNIST\n",
    "import numpy as np"
   ]
  },
  {
   "cell_type": "markdown",
   "id": "6e484bd3",
   "metadata": {},
   "source": [
    "## Step1: Call the training and test dataset"
   ]
  },
  {
   "cell_type": "code",
   "execution_count": 2,
   "id": "7f059f55",
   "metadata": {},
   "outputs": [
    {
     "name": "stdout",
     "output_type": "stream",
     "text": [
      "Dataset MNIST\n",
      "    Number of datapoints: 60000\n",
      "    Root location: data/\n",
      "    Split: Train\n",
      "60000\n",
      "Dataset MNIST\n",
      "    Number of datapoints: 10000\n",
      "    Root location: data/\n",
      "    Split: Test\n",
      "10000\n"
     ]
    }
   ],
   "source": [
    "dataset = MNIST(root='data/', download=False, train=True)\n",
    "print(dataset)\n",
    "print(len(dataset))\n",
    "test_dataset = MNIST(root='data/', train=False)\n",
    "print(test_dataset)\n",
    "print(len(test_dataset))"
   ]
  },
  {
   "cell_type": "markdown",
   "id": "8226aff3",
   "metadata": {},
   "source": [
    "## Step2: Call each image file as a picture or a tensor object"
   ]
  },
  {
   "cell_type": "markdown",
   "id": "ab34b1c0",
   "metadata": {},
   "source": [
    "### picture"
   ]
  },
  {
   "cell_type": "code",
   "execution_count": 3,
   "id": "cdd382f1",
   "metadata": {},
   "outputs": [
    {
     "data": {
      "text/plain": [
       "5"
      ]
     },
     "execution_count": 3,
     "metadata": {},
     "output_type": "execute_result"
    },
    {
     "data": {
      "image/png": "[encoded data removed]",
      "text/plain": [
       "<Figure size 432x288 with 1 Axes>"
      ]
     },
     "metadata": {
      "needs_background": "light"
     },
     "output_type": "display_data"
    }
   ],
   "source": [
    "import matplotlib.pyplot as plt\n",
    "image, label = dataset[0]\n",
    "plt.imshow(image, cmap='gray')\n",
    "label"
   ]
  },
  {
   "cell_type": "markdown",
   "id": "d6af5d4b",
   "metadata": {},
   "source": [
    "### tensor"
   ]
  },
  {
   "cell_type": "code",
   "execution_count": 4,
   "id": "ade1d7b7",
   "metadata": {},
   "outputs": [
    {
     "name": "stdout",
     "output_type": "stream",
     "text": [
      "torch.Size([1, 28, 28]) 5\n",
      "torch.float32\n"
     ]
    }
   ],
   "source": [
    "import torchvision.transforms as transforms\n",
    "dataset = MNIST(root = 'data/', train=True, transform = transforms.ToTensor())\n",
    "img_tensor, label = dataset[0]\n",
    "print(img_tensor.shape, label)\n",
    "print(img_tensor.dtype)"
   ]
  },
  {
   "cell_type": "markdown",
   "id": "bb659305",
   "metadata": {},
   "source": [
    "## Step3: Split the training dataset"
   ]
  },
  {
   "cell_type": "markdown",
   "id": "93d116d7",
   "metadata": {},
   "source": [
    "* random_split() splits the 60000 samples in the training dataset into training (500000) and validation (100000) dataset."
   ]
  },
  {
   "cell_type": "code",
   "execution_count": 5,
   "id": "29154ee8",
   "metadata": {},
   "outputs": [],
   "source": [
    "# a,b=random_split(torch.tensor([1,2,3]), [2,1])\n",
    "# a[0],a[1], b[0]"
   ]
  },
  {
   "cell_type": "code",
   "execution_count": 6,
   "id": "76d0b373",
   "metadata": {},
   "outputs": [
    {
     "data": {
      "text/plain": [
       "(50000, 10000)"
      ]
     },
     "execution_count": 6,
     "metadata": {},
     "output_type": "execute_result"
    }
   ],
   "source": [
    "from torch.utils.data import random_split\n",
    "torch.manual_seed(0)\n",
    "train_ds, val_ds = random_split(dataset, [50000, 10000])\n",
    "len(train_ds), len(val_ds)"
   ]
  },
  {
   "cell_type": "markdown",
   "id": "c14d61a8",
   "metadata": {},
   "source": [
    "* DataLoader() splits the 50000 images in the training dataset into 391 batches, each with 128 objects (and one batch with the remaining). \n",
    "* train_loader and val_loader generates an object that contains 391 and 79 batches of data. Each batch has len=2, with the elements being a 128-1-28-28 tensor object and a 128 labels. However the last batch may have a size fewer than 128.\n",
    "* Each batch contains two types of data: 128 image files and 128 labels, named as xb and yb."
   ]
  },
  {
   "cell_type": "code",
   "execution_count": 7,
   "id": "c4f94e6f",
   "metadata": {},
   "outputs": [
    {
     "name": "stdout",
     "output_type": "stream",
     "text": [
      "391\n",
      "79\n"
     ]
    }
   ],
   "source": [
    "from torch.utils.data import DataLoader\n",
    "batch_size=128\n",
    "train_loader=DataLoader(train_ds, batch_size, shuffle=True)\n",
    "val_loader=DataLoader(val_ds, batch_size)\n",
    "print(len(train_loader)) # 391 batches in total.\n",
    "print(len(val_loader)) # 79 batches in total."
   ]
  },
  {
   "cell_type": "code",
   "execution_count": 8,
   "id": "84594eab",
   "metadata": {},
   "outputs": [
    {
     "name": "stdout",
     "output_type": "stream",
     "text": [
      "[128  80]\n",
      "[128  16]\n"
     ]
    }
   ],
   "source": [
    "length_vec = []\n",
    "for xb, yb in train_loader:\n",
    "    length_vec.append(len(xb))\n",
    "print(np.array(length_vec)[[0,len(train_loader)-1]]) # all batches with 128 image files, last batch 80 image files\n",
    "\n",
    "length_vec = []\n",
    "for xb, yb in val_loader:\n",
    "    length_vec.append(len(xb))\n",
    "print(np.array(length_vec)[[0,len(val_loader)-1]]) # all batches with 128 image files, last batch 16 image files"
   ]
  },
  {
   "cell_type": "markdown",
   "id": "8af295b4",
   "metadata": {},
   "source": [
    "* This is how we pick out an individual element."
   ]
  },
  {
   "cell_type": "code",
   "execution_count": 9,
   "id": "2a0552f2",
   "metadata": {},
   "outputs": [
    {
     "data": {
      "text/plain": [
       "(2,\n",
       " torch.Size([128, 1, 28, 28]),\n",
       " 128,\n",
       " tensor([0, 5, 9, 7, 2, 6, 1, 6, 9, 5, 9, 9, 6, 7, 4, 5, 2, 4, 3, 3, 0, 7, 7, 7,\n",
       "         7, 8, 5, 4, 7, 5, 5, 2, 0, 4, 2, 1, 2, 2, 0, 6, 2, 9, 6, 5, 2, 3, 7, 5,\n",
       "         0, 3, 2, 3, 1, 4, 9, 5, 7, 3, 2, 5, 8, 3, 7, 7, 2, 3, 0, 2, 7, 1, 9, 4,\n",
       "         2, 6, 3, 1, 3, 6, 2, 0, 3, 8, 8, 8, 3, 4, 4, 2, 1, 5, 5, 7, 6, 7, 6, 0,\n",
       "         9, 3, 6, 1, 0, 1, 2, 1, 0, 9, 2, 3, 5, 4, 2, 2, 3, 3, 9, 3, 5, 4, 0, 9,\n",
       "         1, 8, 7, 8, 2, 5, 7, 7]))"
      ]
     },
     "execution_count": 9,
     "metadata": {},
     "output_type": "execute_result"
    }
   ],
   "source": [
    "for element in train_loader:\n",
    "    break\n",
    "len(element), element[0].shape, len(element[0]), element[1]"
   ]
  },
  {
   "cell_type": "markdown",
   "id": "749744b3",
   "metadata": {},
   "source": [
    "* This is how we pick one element from train_loader.\n",
    "* Every time we realize train_loader, we shuffle it, so we get to observe a randomly selected batch."
   ]
  },
  {
   "cell_type": "code",
   "execution_count": 10,
   "id": "0f2efcc2",
   "metadata": {},
   "outputs": [
    {
     "name": "stdout",
     "output_type": "stream",
     "text": [
      "torch.Size([128, 1, 28, 28])\n",
      "tensor([7, 7, 8, 0, 7, 2, 6, 0, 8, 6, 2, 7, 3, 8, 0, 2, 5, 8, 2, 1, 4, 1, 1, 7,\n",
      "        6, 1, 9, 2, 6, 2, 5, 1, 9, 4, 4, 5, 9, 7, 4, 6, 6, 7, 1, 3, 2, 1, 0, 6,\n",
      "        6, 9, 5, 0, 3, 9, 8, 1, 0, 2, 5, 1, 1, 7, 6, 4, 1, 0, 6, 1, 0, 5, 0, 9,\n",
      "        9, 4, 6, 5, 8, 1, 1, 3, 3, 3, 2, 3, 8, 7, 0, 9, 5, 2, 8, 0, 6, 1, 6, 1,\n",
      "        7, 4, 3, 0, 9, 7, 3, 6, 0, 1, 8, 1, 3, 6, 9, 2, 7, 8, 6, 3, 6, 5, 6, 7,\n",
      "        3, 9, 8, 2, 4, 0, 9, 3])\n"
     ]
    }
   ],
   "source": [
    "for dataset in train_loader: # Each dataset contains two types of data\n",
    "    print(dataset[0].shape) # 4-dim tensor: 128 tensor objects of 1-28-28.\n",
    "    print(dataset[1]) # 128 labels.\n",
    "    break"
   ]
  },
  {
   "cell_type": "markdown",
   "id": "a82a555e",
   "metadata": {},
   "source": [
    "## Step4: Generate a model and predict with it. (Single Step)"
   ]
  },
  {
   "cell_type": "markdown",
   "id": "dd097dfa",
   "metadata": {},
   "source": [
    "* We have 10 output variables, which eventually become the proability of each class.\n",
    "* For each output variable, we do a (generalized) linear regression: 784 inputs (weights) and 1 constant (bias).\n",
    "* nn.Linear(input variable #, output variable #)\n",
    "* We just randomly generated a model, so its accuracy is terrible at the first time."
   ]
  },
  {
   "cell_type": "code",
   "execution_count": 11,
   "id": "0f7d0ca5",
   "metadata": {},
   "outputs": [
    {
     "name": "stdout",
     "output_type": "stream",
     "text": [
      "torch.Size([10, 784])\n",
      "Parameter containing:\n",
      "tensor([ 0.0356,  0.0136, -0.0266,  0.0188,  0.0147, -0.0263,  0.0197,  0.0134,\n",
      "         0.0211, -0.0227], requires_grad=True)\n"
     ]
    }
   ],
   "source": [
    "import torch.nn as nn\n",
    "input_size = 28 * 28\n",
    "num_classes = 10\n",
    "model = nn.Linear(input_size, num_classes) # randomly generate a linear model with \n",
    "print(model.weight.shape) # 784 weights allocated to each pixel for each class = 784 input variables\n",
    "print(model.bias) # 1 bias allocated to each class = 1 constant term"
   ]
  },
  {
   "cell_type": "markdown",
   "id": "0b16de9b",
   "metadata": {},
   "source": [
    "* Recall that model inputs and outputs $N\\times p$ and $N\\times K$ matrices.\n",
    "* So we need to transform the input tensor of size=128-1-28-28 into ?-784 (=128-784) matrix, in order to use it as the input variable.\n",
    "* When transforming it, we get to line them all up in order. Since the 128 tensors is the very outer bracket, each 1-28-28 tensor is lined up as a single line."
   ]
  },
  {
   "cell_type": "code",
   "execution_count": 12,
   "id": "eeca85b7",
   "metadata": {},
   "outputs": [
    {
     "name": "stdout",
     "output_type": "stream",
     "text": [
      "tensor([9, 3, 4, 0, 6, 3, 8, 1, 3, 0, 2, 3, 0, 0, 2, 1, 3, 5, 5, 0, 2, 1, 8, 9,\n",
      "        4, 6, 1, 1, 0, 2, 6, 3, 7, 3, 7, 1, 9, 8, 2, 7, 6, 3, 1, 7, 2, 8, 2, 7,\n",
      "        0, 5, 7, 7, 0, 3, 8, 5, 0, 0, 3, 7, 9, 0, 3, 3, 8, 4, 7, 8, 0, 7, 0, 1,\n",
      "        2, 6, 0, 2, 6, 3, 4, 3, 7, 2, 8, 2, 0, 7, 1, 7, 6, 0, 5, 7, 0, 1, 7, 3,\n",
      "        1, 6, 5, 1, 4, 3, 7, 4, 5, 3, 6, 3, 1, 3, 3, 8, 1, 2, 0, 9, 6, 4, 8, 0,\n",
      "        7, 6, 1, 2, 1, 8, 3, 9])\n",
      "torch.Size([128, 1, 28, 28])\n",
      "tensor([[-0.0963, -0.0282,  0.2746,  ...,  0.0257, -0.0732,  0.0228],\n",
      "        [-0.0031,  0.0441,  0.0913,  ...,  0.0692, -0.2793,  0.0609],\n",
      "        [-0.1320, -0.0080,  0.0170,  ...,  0.1333,  0.0119,  0.0865],\n",
      "        ...,\n",
      "        [-0.0188,  0.2417,  0.2082,  ...,  0.1113, -0.0292,  0.2793],\n",
      "        [-0.0085,  0.2744,  0.0149,  ...,  0.2142, -0.1590,  0.2255],\n",
      "        [-0.2558,  0.2315, -0.1850,  ...,  0.1679,  0.0668,  0.3075]],\n",
      "       grad_fn=<AddmmBackward0>)\n",
      "torch.Size([128, 10])\n"
     ]
    }
   ],
   "source": [
    "for images, labels in train_loader: # just one batch : break\n",
    "    print(labels)\n",
    "    print(images.shape)\n",
    "    outputs = model(images.reshape(-1,784))\n",
    "    print(outputs)\n",
    "    print(outputs.shape)\n",
    "    break"
   ]
  },
  {
   "cell_type": "markdown",
   "id": "869b18ae",
   "metadata": {},
   "source": [
    "* softmax - 1) torch.nn.functional.softmax 2) manual computation"
   ]
  },
  {
   "cell_type": "code",
   "execution_count": 13,
   "id": "87eac6e7",
   "metadata": {},
   "outputs": [
    {
     "data": {
      "text/plain": [
       "tensor([[0.0874, 0.0936, 0.1267,  ..., 0.0988, 0.0895, 0.0985],\n",
       "        [0.1025, 0.1075, 0.1126,  ..., 0.1102, 0.0778, 0.1093],\n",
       "        [0.0853, 0.0965, 0.0990,  ..., 0.1112, 0.0985, 0.1061],\n",
       "        ...,\n",
       "        [0.0877, 0.1138, 0.1100,  ..., 0.0999, 0.0868, 0.1181],\n",
       "        [0.0948, 0.1258, 0.0970,  ..., 0.1184, 0.0815, 0.1198],\n",
       "        [0.0703, 0.1145, 0.0755,  ..., 0.1074, 0.0971, 0.1235]],\n",
       "       grad_fn=<SoftmaxBackward0>)"
      ]
     },
     "execution_count": 13,
     "metadata": {},
     "output_type": "execute_result"
    }
   ],
   "source": [
    "# from torch package\n",
    "import torch.nn.functional as F\n",
    "probs = F.softmax(outputs, dim=1)\n",
    "probs"
   ]
  },
  {
   "cell_type": "code",
   "execution_count": 14,
   "id": "49d2ad6e",
   "metadata": {},
   "outputs": [
    {
     "data": {
      "text/plain": [
       "(tensor(2.9802e-08, grad_fn=<MaxBackward1>),\n",
       " tensor([1.0000, 1.0000, 1.0000, 1.0000, 1.0000, 1.0000, 1.0000, 1.0000, 1.0000,\n",
       "         1.0000, 1.0000, 1.0000, 1.0000, 1.0000, 1.0000, 1.0000, 1.0000, 1.0000,\n",
       "         1.0000, 1.0000, 1.0000, 1.0000, 1.0000, 1.0000, 1.0000, 1.0000, 1.0000,\n",
       "         1.0000, 1.0000, 1.0000, 1.0000, 1.0000, 1.0000, 1.0000, 1.0000, 1.0000,\n",
       "         1.0000, 1.0000, 1.0000, 1.0000, 1.0000, 1.0000, 1.0000, 1.0000, 1.0000,\n",
       "         1.0000, 1.0000, 1.0000, 1.0000, 1.0000, 1.0000, 1.0000, 1.0000, 1.0000,\n",
       "         1.0000, 1.0000, 1.0000, 1.0000, 1.0000, 1.0000, 1.0000, 1.0000, 1.0000,\n",
       "         1.0000, 1.0000, 1.0000, 1.0000, 1.0000, 1.0000, 1.0000, 1.0000, 1.0000,\n",
       "         1.0000, 1.0000, 1.0000, 1.0000, 1.0000, 1.0000, 1.0000, 1.0000, 1.0000,\n",
       "         1.0000, 1.0000, 1.0000, 1.0000, 1.0000, 1.0000, 1.0000, 1.0000, 1.0000,\n",
       "         1.0000, 1.0000, 1.0000, 1.0000, 1.0000, 1.0000, 1.0000, 1.0000, 1.0000,\n",
       "         1.0000, 1.0000, 1.0000, 1.0000, 1.0000, 1.0000, 1.0000, 1.0000, 1.0000,\n",
       "         1.0000, 1.0000, 1.0000, 1.0000, 1.0000, 1.0000, 1.0000, 1.0000, 1.0000,\n",
       "         1.0000, 1.0000, 1.0000, 1.0000, 1.0000, 1.0000, 1.0000, 1.0000, 1.0000,\n",
       "         1.0000, 1.0000], grad_fn=<SumBackward1>))"
      ]
     },
     "execution_count": 14,
     "metadata": {},
     "output_type": "execute_result"
    }
   ],
   "source": [
    "# manual computation\n",
    "exp_outputs = torch.exp(outputs)\n",
    "manual_computed = exp_outputs / torch.sum(exp_outputs,axis=1).reshape(-1,1)\n",
    "torch.max(torch.abs(manual_computed - probs)),torch.sum(manual_computed, axis=1)  \n",
    "# We get the same results as softmax (except numerical errors)."
   ]
  },
  {
   "cell_type": "markdown",
   "id": "f3ca506d",
   "metadata": {},
   "source": [
    "* torch.max : single maximum value\n",
    "* torch.max(, dim=1) : row-wise maximum $\\rightarrow$ prints maximum values & indices\n",
    "* torch.max(, dim=2) : col-wise maximum  $\\rightarrow$ prints maximum values & indices\n",
    "* tensor.item() : Given a tensor object __with a single value__, this returns the numeric value, not the tensor."
   ]
  },
  {
   "cell_type": "code",
   "execution_count": 15,
   "id": "09178ef9",
   "metadata": {},
   "outputs": [
    {
     "data": {
      "text/plain": [
       "0.109375"
      ]
     },
     "execution_count": 15,
     "metadata": {},
     "output_type": "execute_result"
    }
   ],
   "source": [
    "_, preds = torch.max(probs,dim=1) # two values: max values themselves & indices that have the maximum values\n",
    "torch.sum(preds==labels).item() / len(preds) # Given a tensor object with a single value, .item() gives its value, not the tensor."
   ]
  },
  {
   "cell_type": "markdown",
   "id": "5058409b",
   "metadata": {},
   "source": [
    "* torch.nn.functional.cross_entropy(obj1, obj2) : $N\\times K$ matrix with prob values $\\in[0,1]$, $N$-lengthed vector with $K$ possible labels, which are $0 \\cdots (K-1)$."
   ]
  },
  {
   "cell_type": "code",
   "execution_count": 16,
   "id": "943a58ce",
   "metadata": {},
   "outputs": [
    {
     "name": "stdout",
     "output_type": "stream",
     "text": [
      "torch.Size([128, 10]) torch.Size([128])\n"
     ]
    },
    {
     "data": {
      "text/plain": [
       "2.3273677825927734"
      ]
     },
     "execution_count": 16,
     "metadata": {},
     "output_type": "execute_result"
    }
   ],
   "source": [
    "print(outputs.shape, labels.shape)\n",
    "F.cross_entropy(outputs, labels).item() # just pick out the numerical value."
   ]
  },
  {
   "cell_type": "markdown",
   "id": "4051621f",
   "metadata": {},
   "source": [
    "## Step5: Optimizer "
   ]
  },
  {
   "cell_type": "markdown",
   "id": "b6a0a8b0",
   "metadata": {},
   "source": [
    "* torch.optim.SGD(obj1, obj2) : obj1 = the parameters that we will update // obj2 = learning rate\n",
    "* When we do SGD, we take the following steps.\n",
    "* 1) predict = model(xb)\n",
    "* 2) loss = torch.nn.functional.~~ (pred, yb)\n",
    "* 3) loss.backward: loss is a loss function defined in torch.nn.functional (e.g.) torch.nn.functional.mse_loss, torch.nn.functional.cross_entropy\n",
    "* 4) opt.step() : take a gradient descent.\n",
    "* 5) opt.zero_grad() : reset the gradient as zero."
   ]
  },
  {
   "cell_type": "code",
   "execution_count": 17,
   "id": "d718b5ec",
   "metadata": {},
   "outputs": [],
   "source": [
    "learning_rate = 0.001\n",
    "optimizer = torch.optim.SGD(model.parameters(), lr=learning_rate)"
   ]
  },
  {
   "cell_type": "code",
   "execution_count": null,
   "id": "d149380a",
   "metadata": {},
   "outputs": [],
   "source": []
  },
  {
   "cell_type": "markdown",
   "id": "27aa5f1e",
   "metadata": {},
   "source": [
    "# <PART 2: Whole Algorithm>"
   ]
  },
  {
   "cell_type": "markdown",
   "id": "4ee124e5",
   "metadata": {},
   "source": [
    "* %reset removes all objects and packages. However there should not follow anyting including comments in the same line!"
   ]
  },
  {
   "cell_type": "code",
   "execution_count": 18,
   "id": "32da25b7",
   "metadata": {
    "scrolled": false
   },
   "outputs": [
    {
     "name": "stdout",
     "output_type": "stream",
     "text": [
      "Once deleted, variables cannot be recovered. Proceed (y/[n])? y\n"
     ]
    }
   ],
   "source": [
    "%reset "
   ]
  },
  {
   "cell_type": "code",
   "execution_count": 19,
   "id": "ae92d0e0",
   "metadata": {},
   "outputs": [],
   "source": [
    "import torch\n",
    "from torchvision.datasets import MNIST\n",
    "import torchvision.transforms as transforms\n",
    "import numpy as np"
   ]
  },
  {
   "cell_type": "code",
   "execution_count": 20,
   "id": "a4a3f3c1",
   "metadata": {},
   "outputs": [],
   "source": [
    "train_dataset = MNIST(root='data/', download=False, train=True, transform=transforms.ToTensor())"
   ]
  },
  {
   "cell_type": "code",
   "execution_count": 21,
   "id": "3f495467",
   "metadata": {},
   "outputs": [
    {
     "data": {
      "text/plain": [
       "<torch._C.Generator at 0x255e5a02950>"
      ]
     },
     "execution_count": 21,
     "metadata": {},
     "output_type": "execute_result"
    }
   ],
   "source": [
    "torch.manual_seed(0)"
   ]
  },
  {
   "cell_type": "code",
   "execution_count": 22,
   "id": "5e4c9f61",
   "metadata": {
    "scrolled": true
   },
   "outputs": [],
   "source": [
    "from torch.utils.data import random_split\n",
    "train_ds, val_ds = random_split(train_dataset, [50000, 10000]) # split the training data into training data & validation data\n",
    "from torch.utils.data import DataLoader\n",
    "batch_size=128\n",
    "train_loader = DataLoader(train_ds, batch_size, shuffle=True)\n",
    "val_loader = DataLoader(val_ds, batch_size, shuffle=False)"
   ]
  },
  {
   "cell_type": "code",
   "execution_count": 23,
   "id": "92b1ef66",
   "metadata": {},
   "outputs": [],
   "source": [
    "import torch.nn as nn\n",
    "input_size = 28 * 28\n",
    "num_classes = 10"
   ]
  },
  {
   "cell_type": "code",
   "execution_count": 24,
   "id": "6c514d6f",
   "metadata": {},
   "outputs": [],
   "source": [
    "import torch.nn.functional as F\n",
    "loss_fn = F.cross_entropy"
   ]
  },
  {
   "cell_type": "code",
   "execution_count": 25,
   "id": "6cd71658",
   "metadata": {},
   "outputs": [],
   "source": [
    "class MnistModel(nn.Module):\n",
    "    def __init__(self):\n",
    "        super().__init__()\n",
    "        self.linear = nn.Linear(input_size, num_classes)\n",
    "        \n",
    "    def forward(self, xb):\n",
    "        xb = xb.reshape(-1,input_size)\n",
    "        out = self.linear(xb)\n",
    "        return out"
   ]
  },
  {
   "cell_type": "code",
   "execution_count": 26,
   "id": "e4107f37",
   "metadata": {},
   "outputs": [],
   "source": [
    "# Given a single batch in the training dataset, we update the parameter once.\n",
    "def loss_batch(model, loss_func, xb, yb, opt=None, metric=None): # xb: Xmat // yb: label \n",
    "    preds = model(xb)\n",
    "    loss = loss_func(preds, yb) # 1st step\n",
    "    \n",
    "    if opt is not None:\n",
    "        loss.backward() # 2nd step\n",
    "        opt.step() # 3rd step\n",
    "        opt.zero_grad() # 4th step\n",
    "    \n",
    "    metric_result = None\n",
    "    if metric is not None:\n",
    "        metric_result = metric(preds, yb) # accuracy\n",
    "    \n",
    "    return loss.item(), len(xb), metric_result # xb : 128-1-28-28 tensor: len(xb)=128"
   ]
  },
  {
   "cell_type": "code",
   "execution_count": 27,
   "id": "883c7921",
   "metadata": {},
   "outputs": [],
   "source": [
    "def evaluate(model, loss_fn, valid_dl, metric=None):\n",
    "    results = [loss_batch(model, loss_fn, xb, yb, metric = metric) for xb,yb in valid_dl]\n",
    "    losses, nums, metrics = zip(*results)\n",
    "    total = sum(nums)\n",
    "    avg_loss = np.sum(np.multiply(losses, nums)) / total # average loss\n",
    "    avg_metric = None\n",
    "    if metric is not None:\n",
    "            avg_metric = np.sum(np.multiply(metrics, nums)) / total # average accuracy\n",
    "    return avg_loss, total, avg_metric # We later use this for assessing the performance when applied to validation dataset.\n"
   ]
  },
  {
   "cell_type": "code",
   "execution_count": 28,
   "id": "a0d8730b",
   "metadata": {},
   "outputs": [],
   "source": [
    "def accuracy(outputs, labels):\n",
    "    _, preds = torch.max(outputs, dim=1) # Since softmax is monotonely increasing function, there is no need to F.softmax().\n",
    "    return torch.sum(preds==labels).item() / len(preds)"
   ]
  },
  {
   "cell_type": "code",
   "execution_count": 29,
   "id": "066bce78",
   "metadata": {},
   "outputs": [],
   "source": [
    "def fit(epochs, model, loss_fn, opt, train_dl, valid_dl, metric=None):\n",
    "    history = []\n",
    "    for epoch in range(epochs):\n",
    "        for xb, yb in train_dl: # update the parameters with the training data.\n",
    "            loss_batch(model, loss_fn, xb, yb, opt) # We do not have to save the results as _,_,_. \"opt\" (the procedure of updating) is what matters.\n",
    "        result = evaluate(model, loss_fn, valid_dl, metric)\n",
    "        val_loss, total, val_metric = result\n",
    "        \n",
    "        if metric is None:\n",
    "            print('Epoch [{}/{}], Loss: {:.4f}'.format(epoch+1, epochs, val_loss))\n",
    "        else:\n",
    "            print('Epoch [{}/{}], Loss: {:.4f}, {}: {:.4f}'.format(epoch+1, epochs, val_loss, metric.__name__, val_metric)  )\n",
    "        history.append(result)\n",
    "    return history"
   ]
  },
  {
   "cell_type": "code",
   "execution_count": 30,
   "id": "30f04347",
   "metadata": {},
   "outputs": [],
   "source": [
    "learning_rate = 0.001\n",
    "model = MnistModel()\n",
    "optimizer = torch.optim.SGD(model.parameters(), lr=learning_rate)"
   ]
  },
  {
   "cell_type": "code",
   "execution_count": 31,
   "id": "6ce46c06",
   "metadata": {
    "scrolled": true
   },
   "outputs": [
    {
     "name": "stdout",
     "output_type": "stream",
     "text": [
      "Epoch [1/20], Loss: 1.9569, accuracy: 0.6429\n",
      "Epoch [2/20], Loss: 1.6873, accuracy: 0.7222\n",
      "Epoch [3/20], Loss: 1.4865, accuracy: 0.7491\n",
      "Epoch [4/20], Loss: 1.3351, accuracy: 0.7715\n",
      "Epoch [5/20], Loss: 1.2185, accuracy: 0.7866\n",
      "Epoch [6/20], Loss: 1.1268, accuracy: 0.8000\n",
      "Epoch [7/20], Loss: 1.0532, accuracy: 0.8090\n",
      "Epoch [8/20], Loss: 0.9929, accuracy: 0.8169\n",
      "Epoch [9/20], Loss: 0.9426, accuracy: 0.8224\n",
      "Epoch [10/20], Loss: 0.9001, accuracy: 0.8279\n",
      "Epoch [11/20], Loss: 0.8637, accuracy: 0.8316\n",
      "Epoch [12/20], Loss: 0.8321, accuracy: 0.8333\n",
      "Epoch [13/20], Loss: 0.8045, accuracy: 0.8354\n",
      "Epoch [14/20], Loss: 0.7799, accuracy: 0.8386\n",
      "Epoch [15/20], Loss: 0.7582, accuracy: 0.8405\n",
      "Epoch [16/20], Loss: 0.7386, accuracy: 0.8427\n",
      "Epoch [17/20], Loss: 0.7210, accuracy: 0.8443\n",
      "Epoch [18/20], Loss: 0.7049, accuracy: 0.8461\n",
      "Epoch [19/20], Loss: 0.6904, accuracy: 0.8483\n",
      "Epoch [20/20], Loss: 0.6769, accuracy: 0.8502\n"
     ]
    }
   ],
   "source": [
    "num_iter=20\n",
    "history = fit(num_iter, model, loss_fn, optimizer, train_loader, val_loader, accuracy)"
   ]
  },
  {
   "cell_type": "code",
   "execution_count": 32,
   "id": "32c80dcd",
   "metadata": {},
   "outputs": [],
   "source": [
    "accuracies = [history[i][2] for i in range(num_iter) ]"
   ]
  },
  {
   "cell_type": "code",
   "execution_count": 33,
   "id": "f68a894c",
   "metadata": {},
   "outputs": [
    {
     "data": {
      "text/plain": [
       "Text(0.5, 1.0, 'Accuracy vs No, of epochs')"
      ]
     },
     "execution_count": 33,
     "metadata": {},
     "output_type": "execute_result"
    },
    {
     "data": {
      "image/png": "[encoded data removed]",
      "text/plain": [
       "<Figure size 432x288 with 1 Axes>"
      ]
     },
     "metadata": {
      "needs_background": "light"
     },
     "output_type": "display_data"
    }
   ],
   "source": [
    "import matplotlib.pyplot as plt\n",
    "plt.plot(accuracies, '-*') # - : line   //   * : point figure\n",
    "plt.xlabel('epoch')\n",
    "plt.ylabel('accuracy')\n",
    "plt.title('Accuracy vs No, of epochs')"
   ]
  },
  {
   "cell_type": "code",
   "execution_count": 34,
   "id": "82d297f8",
   "metadata": {},
   "outputs": [
    {
     "name": "stdout",
     "output_type": "stream",
     "text": [
      "Loss: 0.6477, Accuracy: 0.8629\n"
     ]
    }
   ],
   "source": [
    "test_dataset = MNIST(root='data/', download=False, train=False, transform=transforms.ToTensor())\n",
    "test_loader = DataLoader(test_dataset, batch_size=256)\n",
    "test_loss, total, test_acc = evaluate(model, loss_fn, test_loader, metric=accuracy)\n",
    "print('Loss: {:.4f}, Accuracy: {:.4f}'.format(test_loss, test_acc))"
   ]
  },
  {
   "cell_type": "code",
   "execution_count": 35,
   "id": "2115211c",
   "metadata": {},
   "outputs": [],
   "source": [
    "torch.save(model.state_dict(), 'data/mnist-logistic.pth')"
   ]
  },
  {
   "cell_type": "code",
   "execution_count": null,
   "id": "69a350d4",
   "metadata": {},
   "outputs": [],
   "source": []
  },
  {
   "cell_type": "markdown",
   "id": "5455ef33",
   "metadata": {},
   "source": [
    "## <Part 3: Call the model and apply>"
   ]
  },
  {
   "cell_type": "code",
   "execution_count": 36,
   "id": "45abfdcb",
   "metadata": {
    "scrolled": true
   },
   "outputs": [
    {
     "name": "stdout",
     "output_type": "stream",
     "text": [
      "Once deleted, variables cannot be recovered. Proceed (y/[n])? y\n"
     ]
    }
   ],
   "source": [
    "%reset"
   ]
  },
  {
   "cell_type": "markdown",
   "id": "d69dd601",
   "metadata": {},
   "source": [
    "* We should call all the necessary packages and the functions. \n",
    "* We do not have to call the training and validation dataset. In fact this is the whole point of saving the model."
   ]
  },
  {
   "cell_type": "code",
   "execution_count": 37,
   "id": "1ec3e8f5",
   "metadata": {},
   "outputs": [],
   "source": [
    "import torch\n",
    "import torch.nn as nn\n",
    "from torchvision.datasets import MNIST\n",
    "import torchvision.transforms as transforms\n",
    "from torch.utils.data import DataLoader\n",
    "import torch.nn.functional as F\n",
    "import numpy as np"
   ]
  },
  {
   "cell_type": "code",
   "execution_count": 38,
   "id": "b3dfcd7d",
   "metadata": {},
   "outputs": [],
   "source": [
    "input_size=28*28; num_classes=10\n",
    "loss_fn = F.cross_entropy\n",
    "\n",
    "class MnistModel(nn.Module):\n",
    "    def __init__(self):\n",
    "        super().__init__()\n",
    "        self.linear = nn.Linear(input_size, num_classes)\n",
    "        \n",
    "    def forward(self, xb):\n",
    "        xb = xb.reshape(-1,input_size)\n",
    "        out = self.linear(xb)\n",
    "        return out\n",
    "    \n",
    "# Given a single batch in the training dataset, we update the parameter once.\n",
    "def loss_batch(model, loss_func, xb, yb, opt=None, metric=None): # xb: Xmat // yb: label \n",
    "    preds = model(xb)\n",
    "    loss = loss_func(preds, yb) # 1st step\n",
    "    \n",
    "    if opt is not None:\n",
    "        loss.backward() # 2nd step\n",
    "        opt.step() # 3rd step\n",
    "        opt.zero_grad() # 4th step\n",
    "    \n",
    "    metric_result = None\n",
    "    if metric is not None:\n",
    "        metric_result = metric(preds, yb) # accuracy\n",
    "    \n",
    "    return loss.item(), len(xb), metric_result # xb : 128-1-28-28 tensor: len(xb)=128\n",
    "\n",
    "def evaluate(model, loss_fn, valid_dl, metric=None):\n",
    "    results = [loss_batch(model, loss_fn, xb, yb, metric = metric) for xb,yb in valid_dl]\n",
    "    losses, nums, metrics = zip(*results)\n",
    "    total = sum(nums)\n",
    "    avg_loss = np.sum(np.multiply(losses, nums)) / total # average loss\n",
    "    avg_metric = None\n",
    "    if metric is not None:\n",
    "            avg_metric = np.sum(np.multiply(metrics, nums)) / total # average accuracy\n",
    "    return avg_loss, total, avg_metric # We later use this for assessing the performance when applied to validation dataset.\n",
    "\n",
    "\n",
    "def accuracy(outputs, labels):\n",
    "    _, preds = torch.max(outputs, dim=1) # Since softmax is monotonely increasing function, there is no need to F.softmax().\n",
    "    return torch.sum(preds==labels).item() / len(preds)"
   ]
  },
  {
   "cell_type": "code",
   "execution_count": 39,
   "id": "b8539350",
   "metadata": {},
   "outputs": [
    {
     "data": {
      "text/plain": [
       "<All keys matched successfully>"
      ]
     },
     "execution_count": 39,
     "metadata": {},
     "output_type": "execute_result"
    }
   ],
   "source": [
    "model_call = MnistModel()\n",
    "model_call.load_state_dict(torch.load('data/mnist-logistic.pth'))"
   ]
  },
  {
   "cell_type": "code",
   "execution_count": 40,
   "id": "b26d291a",
   "metadata": {},
   "outputs": [
    {
     "name": "stdout",
     "output_type": "stream",
     "text": [
      "Loss: 0.6477, Accuracy: 0.8629\n"
     ]
    }
   ],
   "source": [
    "test_dataset = MNIST(root='data/', download=False, train=False, transform=transforms.ToTensor())\n",
    "test_loader = DataLoader(test_dataset, batch_size=256)\n",
    "test_loss, total, test_acc = evaluate(model_call, loss_fn, test_loader, metric=accuracy)\n",
    "print('Loss: {:.4f}, Accuracy: {:.4f}'.format(test_loss, test_acc))"
   ]
  },
  {
   "cell_type": "code",
   "execution_count": null,
   "id": "c444bfc4",
   "metadata": {},
   "outputs": [],
   "source": []
  },
  {
   "cell_type": "code",
   "execution_count": null,
   "id": "63b10239",
   "metadata": {},
   "outputs": [],
   "source": []
  },
  {
   "cell_type": "code",
   "execution_count": null,
   "id": "e302ca0c",
   "metadata": {},
   "outputs": [],
   "source": []
  }
 ],
 "metadata": {
  "kernelspec": {
   "display_name": "Python 3",
   "language": "python",
   "name": "python3"
  },
  "language_info": {
   "codemirror_mode": {
    "name": "ipython",
    "version": 3
   },
   "file_extension": ".py",
   "mimetype": "text/x-python",
   "name": "python",
   "nbconvert_exporter": "python",
   "pygments_lexer": "ipython3",
   "version": "3.8.8"
  }
 },
 "nbformat": 4,
 "nbformat_minor": 5
}
