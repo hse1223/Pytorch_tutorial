{
 "cells": [
  {
   "cell_type": "markdown",
   "id": "253b040a",
   "metadata": {},
   "source": [
    "### Set tuning parameters and call the data"
   ]
  },
  {
   "cell_type": "code",
   "execution_count": 1,
   "id": "b8a890c9",
   "metadata": {},
   "outputs": [],
   "source": [
    "alpha = 1/6 # the proportion of the validation set\n",
    "num_epoch = 5 # how many epochs should we repeat.\n",
    "learning_rate = 0.001\n",
    "batch_size=128"
   ]
  },
  {
   "cell_type": "code",
   "execution_count": 2,
   "id": "23bdff38",
   "metadata": {},
   "outputs": [],
   "source": [
    "import torch \n",
    "from torchvision.datasets import MNIST\n",
    "import torchvision.transforms as transforms\n",
    "import numpy as np"
   ]
  },
  {
   "cell_type": "code",
   "execution_count": 3,
   "id": "245ce302",
   "metadata": {},
   "outputs": [
    {
     "data": {
      "text/plain": [
       "<torch._C.Generator at 0x204c46649d0>"
      ]
     },
     "execution_count": 3,
     "metadata": {},
     "output_type": "execute_result"
    }
   ],
   "source": [
    "train_dataset = MNIST(root='data/', download=False, train=True, transform = transforms.ToTensor())\n",
    "torch.manual_seed(0)"
   ]
  },
  {
   "cell_type": "markdown",
   "id": "fef89ca2",
   "metadata": {},
   "source": [
    "### Split the training data and grasp the size of the data"
   ]
  },
  {
   "cell_type": "code",
   "execution_count": 4,
   "id": "e90036f3",
   "metadata": {},
   "outputs": [],
   "source": [
    "from torch.utils.data import random_split\n",
    "from torch.utils.data import DataLoader\n",
    "train_ds, val_ds = random_split(train_dataset, [len(train_dataset) - int(len(train_dataset) * alpha), int(len(train_dataset) * alpha)])\n",
    "train_loader = DataLoader(train_ds, batch_size, shuffle=True)"
   ]
  },
  {
   "cell_type": "code",
   "execution_count": 5,
   "id": "8d22d948",
   "metadata": {},
   "outputs": [],
   "source": [
    "dimension = train_ds[0][0].shape\n",
    "input_size = np.prod(dimension)\n",
    "_, labels=zip(*train_dataset)\n",
    "num_classes = len(np.unique(labels))"
   ]
  },
  {
   "cell_type": "markdown",
   "id": "360b0a7c",
   "metadata": {},
   "source": [
    "### Construct the model and set up the number of epochs."
   ]
  },
  {
   "cell_type": "code",
   "execution_count": 6,
   "id": "3d96e032",
   "metadata": {},
   "outputs": [],
   "source": [
    "import torch.nn as nn\n",
    "class MnistModel(nn.Module):\n",
    "    def __init__(self):\n",
    "        super().__init__()\n",
    "        self.linear = nn.Linear(input_size, num_classes)\n",
    "        \n",
    "    def forward(self, xb):\n",
    "        xb=xb.reshape(-1, input_size)\n",
    "        out=self.linear(xb)\n",
    "        return out"
   ]
  },
  {
   "cell_type": "code",
   "execution_count": 7,
   "id": "780879ef",
   "metadata": {},
   "outputs": [],
   "source": [
    "import torch.nn.functional as F\n",
    "model = MnistModel()\n",
    "optimizer = torch.optim.SGD(model.parameters(), lr=learning_rate)\n",
    "history = []"
   ]
  },
  {
   "cell_type": "markdown",
   "id": "5ce3e430",
   "metadata": {},
   "source": [
    "### Iteration box"
   ]
  },
  {
   "cell_type": "code",
   "execution_count": 8,
   "id": "f165ee27",
   "metadata": {},
   "outputs": [
    {
     "name": "stdout",
     "output_type": "stream",
     "text": [
      "Epoch [1/5], Loss: 1.9569, accuracy: 0.6429\n",
      "Epoch [2/5], Loss: 1.6873, accuracy: 0.7227\n",
      "Epoch [3/5], Loss: 1.4865, accuracy: 0.7486\n",
      "Epoch [4/5], Loss: 1.3350, accuracy: 0.7717\n",
      "Epoch [5/5], Loss: 1.2185, accuracy: 0.7860\n"
     ]
    }
   ],
   "source": [
    "for epoch in range(num_epoch):\n",
    "    \n",
    "    ### optimizing once for each batch\n",
    "    for xb,yb in train_loader:\n",
    "        preds = model(xb)\n",
    "        loss = F.cross_entropy(preds, yb)\n",
    "        loss.backward()\n",
    "        optimizer.step()\n",
    "        optimizer.zero_grad()\n",
    "\n",
    "    ### assess performance with validation dataset\n",
    "    images,labels=zip(*val_ds)\n",
    "    images=torch.cat(images).reshape(len(val_ds),dimension[0],dimension[1],dimension[2])\n",
    "    labels=torch.tensor(labels)\n",
    "    preds = model(images)\n",
    "    loss_val = F.cross_entropy(preds, labels) # validation\n",
    "    _, predoutcomes = torch.max(preds, dim=1)\n",
    "    acc_val = torch.sum(predoutcomes==labels).item() / len(labels) # validation\n",
    "\n",
    "    ### record the performance in the history\n",
    "    history.append((loss_val, acc_val))\n",
    "    print('Epoch [{}/{}], Loss: {:.4f}, accuracy: {:.4f}'.format(epoch+1, num_epoch, loss_val, acc_val))"
   ]
  },
  {
   "cell_type": "markdown",
   "id": "92ff5a87",
   "metadata": {},
   "source": [
    "### Plot"
   ]
  },
  {
   "cell_type": "code",
   "execution_count": 9,
   "id": "9d3eaed5",
   "metadata": {},
   "outputs": [
    {
     "data": {
      "text/plain": [
       "Text(0.5, 1.0, 'Accuracy vs No.of epochs')"
      ]
     },
     "execution_count": 9,
     "metadata": {},
     "output_type": "execute_result"
    },
    {
     "data": {
      "image/png": "[encoded data removed]",
      "text/plain": [
       "<Figure size 432x288 with 1 Axes>"
      ]
     },
     "metadata": {
      "needs_background": "light"
     },
     "output_type": "display_data"
    }
   ],
   "source": [
    "_,accuracies=zip(*history)\n",
    "import matplotlib.pyplot as plt\n",
    "plt.plot(np.arange(len(history))+1, accuracies, '-o') # in order to start the epoch from 1.\n",
    "plt.xlabel('epoch')\n",
    "plt.ylabel('accuracy')\n",
    "plt.title('Accuracy vs No.of epochs')"
   ]
  },
  {
   "cell_type": "markdown",
   "id": "af64c09a",
   "metadata": {},
   "source": [
    "### Apply to the test data"
   ]
  },
  {
   "cell_type": "code",
   "execution_count": 10,
   "id": "aba6c585",
   "metadata": {},
   "outputs": [],
   "source": [
    "test_ds = MNIST(root='data/', download=False, train=False, transform = transforms.ToTensor())"
   ]
  },
  {
   "cell_type": "code",
   "execution_count": 11,
   "id": "44b9d3e7",
   "metadata": {},
   "outputs": [],
   "source": [
    "images_test,labels_test=zip(*test_ds)\n",
    "images_test=torch.cat(images_test).reshape(len(test_ds),dimension[0],dimension[1],dimension[2])\n",
    "labels_test=torch.tensor(labels_test)\n",
    "preds = model(images_test)\n",
    "loss_val = F.cross_entropy(preds, labels_test) # validation\n",
    "_, predoutcomes = torch.max(preds, dim=1)\n",
    "acc_val = torch.sum(predoutcomes==labels_test).item() / len(labels) # validation"
   ]
  },
  {
   "cell_type": "code",
   "execution_count": 12,
   "id": "7f4a1b23",
   "metadata": {},
   "outputs": [
    {
     "data": {
      "text/plain": [
       "(1.198830246925354, 0.8)"
      ]
     },
     "execution_count": 12,
     "metadata": {},
     "output_type": "execute_result"
    }
   ],
   "source": [
    "loss_val.item(), acc_val"
   ]
  },
  {
   "cell_type": "markdown",
   "id": "3248069d",
   "metadata": {},
   "source": [
    "### Save and call the model and apply"
   ]
  },
  {
   "cell_type": "code",
   "execution_count": 13,
   "id": "3db30cf2",
   "metadata": {},
   "outputs": [],
   "source": [
    "torch.save(model.state_dict(), 'data/mnist-logistic.pth')"
   ]
  },
  {
   "cell_type": "code",
   "execution_count": 14,
   "id": "968b4771",
   "metadata": {},
   "outputs": [
    {
     "name": "stdout",
     "output_type": "stream",
     "text": [
      "Once deleted, variables cannot be recovered. Proceed (y/[n])? y\n"
     ]
    }
   ],
   "source": [
    "%reset"
   ]
  },
  {
   "cell_type": "code",
   "execution_count": 15,
   "id": "2d0a1086",
   "metadata": {},
   "outputs": [],
   "source": [
    "import torch\n",
    "import torch.nn as nn\n",
    "from torchvision.datasets import MNIST\n",
    "import torchvision.transforms as transforms\n",
    "import torch.nn.functional as F\n",
    "import numpy as np"
   ]
  },
  {
   "cell_type": "code",
   "execution_count": 17,
   "id": "92b6d5f9",
   "metadata": {},
   "outputs": [],
   "source": [
    "test_ds = MNIST(root='data/', download=False, train=False, transform = transforms.ToTensor())\n",
    "images_test, labels_test = zip(*test_ds)\n",
    "num_classes = len(np.unique(labels_test))\n",
    "input_size = np.prod(images_test[0].shape)\n",
    "dimension = images_test[0].shape"
   ]
  },
  {
   "cell_type": "code",
   "execution_count": 18,
   "id": "5f5401f7",
   "metadata": {},
   "outputs": [],
   "source": [
    "class MnistModel(nn.Module):\n",
    "    def __init__(self):\n",
    "        super().__init__()\n",
    "        self.linear = nn.Linear(input_size, num_classes)\n",
    "        \n",
    "    def forward(self, xb):\n",
    "        xb=xb.reshape(-1, input_size)\n",
    "        out=self.linear(xb)\n",
    "        return out"
   ]
  },
  {
   "cell_type": "code",
   "execution_count": 19,
   "id": "69e470c7",
   "metadata": {},
   "outputs": [
    {
     "data": {
      "text/plain": [
       "<All keys matched successfully>"
      ]
     },
     "execution_count": 19,
     "metadata": {},
     "output_type": "execute_result"
    }
   ],
   "source": [
    "model = MnistModel()\n",
    "model.load_state_dict(torch.load('data/mnist-logistic.pth'))"
   ]
  },
  {
   "cell_type": "code",
   "execution_count": 21,
   "id": "5f077eb4",
   "metadata": {},
   "outputs": [],
   "source": [
    "images_test,labels_test=zip(*test_ds)\n",
    "images_test=torch.cat(images_test).reshape(len(test_ds),dimension[0],dimension[1],dimension[2])\n",
    "labels_test=torch.tensor(labels_test)\n",
    "preds = model(images_test)\n",
    "loss_val = F.cross_entropy(preds, labels_test) # validation\n",
    "_, predoutcomes = torch.max(preds, dim=1)\n",
    "acc_val = torch.sum(predoutcomes==labels_test).item() / len(labels_test) # validation"
   ]
  },
  {
   "cell_type": "code",
   "execution_count": 22,
   "id": "d2e7da15",
   "metadata": {},
   "outputs": [
    {
     "data": {
      "text/plain": [
       "(1.198830246925354, 0.8)"
      ]
     },
     "execution_count": 22,
     "metadata": {},
     "output_type": "execute_result"
    }
   ],
   "source": [
    "loss_val.item(), acc_val"
   ]
  },
  {
   "cell_type": "code",
   "execution_count": null,
   "id": "27e6d0c8",
   "metadata": {},
   "outputs": [],
   "source": []
  },
  {
   "cell_type": "code",
   "execution_count": null,
   "id": "873895e6",
   "metadata": {},
   "outputs": [],
   "source": []
  },
  {
   "cell_type": "code",
   "execution_count": null,
   "id": "9e224193",
   "metadata": {},
   "outputs": [],
   "source": []
  },
  {
   "cell_type": "markdown",
   "id": "48c5ad9c",
   "metadata": {},
   "source": [
    "* Before treating the validation set as a single chunk, it was originally as follows, which includes the procedure of splitting the validation dataset."
   ]
  },
  {
   "cell_type": "markdown",
   "id": "79de50f8",
   "metadata": {},
   "source": [
    "val_loader = DataLoader(val_ds, batch_size, shuffle=False)\n",
    "\n",
    "for epoch in range(1):\n",
    "    \n",
    "    ### optimizing one step\n",
    "    for xb,yb in train_loader:\n",
    "        preds = model(xb)\n",
    "        loss = F.cross_entropy(preds, yb)\n",
    "        loss.backward()\n",
    "        optimizer.step()\n",
    "        optimizer.zero_grad()\n",
    "\n",
    "    ### assess performance based on validation dataset\n",
    "    accu_vec = [] # Never do accu_vec=num_vec=[] in python! Updating one automatically updates the other.\n",
    "    num_vec = []\n",
    "    loss_vec = []\n",
    "    for xb,yb in val_loader:\n",
    "        preds = model(xb)\n",
    "        loss = F.cross_entropy(preds, yb)\n",
    "        _, predoutcomes = torch.max(preds, dim=1)\n",
    "        accu_batch = torch.sum(predoutcomes==yb) / len(yb)\n",
    "        accu_vec.append(accu_batch.item())\n",
    "        loss_vec.append(loss.item())\n",
    "        num_vec.append(len(yb))\n",
    "\n",
    "    ### record the performance in the history\n",
    "    avg_accuracy = np.sum(np.multiply(accu_vec, num_vec) / np.sum(num_vec))\n",
    "    avg_loss = np.sum(np.multiply(loss_vec, num_vec) / np.sum(num_vec))\n",
    "    history.append((avg_accuracy, avg_loss))\n",
    "    print('Epoch [{}/{}], Loss: {:.4f}, accuracy: {:.4f}'.format(epoch+1, num_epoch, avg_loss, avg_accuracy))\n",
    "\n",
    "\n"
   ]
  },
  {
   "cell_type": "code",
   "execution_count": null,
   "id": "3d2d1c12",
   "metadata": {},
   "outputs": [],
   "source": []
  },
  {
   "cell_type": "code",
   "execution_count": null,
   "id": "21b3c576",
   "metadata": {},
   "outputs": [],
   "source": []
  }
 ],
 "metadata": {
  "kernelspec": {
   "display_name": "Python 3",
   "language": "python",
   "name": "python3"
  },
  "language_info": {
   "codemirror_mode": {
    "name": "ipython",
    "version": 3
   },
   "file_extension": ".py",
   "mimetype": "text/x-python",
   "name": "python",
   "nbconvert_exporter": "python",
   "pygments_lexer": "ipython3",
   "version": "3.8.8"
  }
 },
 "nbformat": 4,
 "nbformat_minor": 5
}
