{
 "cells": [
  {
   "cell_type": "markdown",
   "id": "1c4d27e5",
   "metadata": {},
   "source": [
    "* Memorize (4)-2 and make the same algorithm. There should be two layers with Relu activation function in the hidden layer, with 32 nodes inside. Use cross entropy as the loss function. Split the training dataset into training and validation dataset, and then apply the trainined model into the test dataset. Select cuda if available."
   ]
  },
  {
   "cell_type": "code",
   "execution_count": null,
   "id": "6b560b1d",
   "metadata": {},
   "outputs": [],
   "source": [
    "import torch\n",
    "import numpy as np\n",
    "import matplotlib.pyplot as plt \n",
    "import torch.nn as nn\n",
    "import torch.nn.functional as F\n",
    "from torchvision.datasets import MNIST\n",
    "from torchvision.transforms import ToTensor\n",
    "from torchvision.utils import make_grid\n",
    "from torch.utils.data.dataloader import DataLoader\n",
    "from torch.utils.data import random_split\n",
    "\n",
    "torch.manual_seed(0)"
   ]
  },
  {
   "cell_type": "markdown",
   "id": "2817e9d3",
   "metadata": {},
   "source": [
    "* Select whether to use cuda or cpu. Compare the time and check if they return the same accuracy in the test data, or equivalently if the model is the same.\n",
    "* Given the same seed and the same device (cuda or cpu), our result stays consistent. However, depending on whethere we choose cuda or cpu, they give us different results. Maybe there appears some difference in randomnes. So the accuracy of the final model differs.\n",
    "* cuda was not always faster than cpu. Maybe it is because the sample size is not big enough.\n",
    "* comparison with num_workers=0: (4)-1: cuda 103 seconds VS cpu 113 seconds / (4)-2 : cuda 57 seconds VS cpu 54 seconds : (4)-2 was a lot faster because we are not treating the validation dataset as multiple batches, but treating them all at once."
   ]
  },
  {
   "cell_type": "code",
   "execution_count": null,
   "id": "eb2c542d",
   "metadata": {},
   "outputs": [],
   "source": [
    "print(torch.cuda.is_available()) # check if cuda is available.\n",
    "\n",
    "# option 1\n",
    "if torch.cuda.is_available():    # Choose cuda if avaialbe\n",
    "    device = torch.device(\"cuda\")\n",
    "\n",
    "# # option 2\n",
    "# device = torch.device(\"cuda\") # Choose cuda\n",
    "\n",
    "# # option 3\n",
    "# device = torch.device(\"cpu\") # Choose cpu"
   ]
  },
  {
   "cell_type": "code",
   "execution_count": null,
   "id": "62dd7663",
   "metadata": {},
   "outputs": [],
   "source": [
    "dataset = MNIST(root='data/', download=False, transform=ToTensor())\n",
    "val_size = 10000\n",
    "train_size = len(dataset) - val_size\n",
    "train_ds, val_ds = random_split(dataset, [train_size, val_size])\n",
    "batch_size = 128\n",
    "train_loader = DataLoader(train_ds, batch_size, shuffle=True, num_workers=4, pin_memory=True)"
   ]
  },
  {
   "cell_type": "code",
   "execution_count": null,
   "id": "49dd419a",
   "metadata": {},
   "outputs": [],
   "source": [
    "class MnistModel(nn.Module):\n",
    "    def __init__(self, in_size, hid_size, out_size):\n",
    "        super().__init__()\n",
    "        self.linear1 = nn.Linear(in_size, hid_size)\n",
    "        self.linear2 = nn.Linear(hid_size, out_size)\n",
    "    \n",
    "    def forward(self, xb):\n",
    "        xb = xb.view(xb.size(0), -1) # flatten the tensor into a matrix.\n",
    "        out = self.linear1(xb) # first layer\n",
    "        out = F.relu(out) # activation function\n",
    "        out = self.linear2(out) # second layer\n",
    "        return out"
   ]
  },
  {
   "cell_type": "code",
   "execution_count": null,
   "id": "16dc4521",
   "metadata": {},
   "outputs": [],
   "source": [
    "input_size = 784\n",
    "hidden_size = 32\n",
    "num_classes = 10\n",
    "model = MnistModel(in_size=input_size, hid_size=hidden_size, out_size=num_classes)"
   ]
  },
  {
   "cell_type": "code",
   "execution_count": null,
   "id": "50ebe793",
   "metadata": {},
   "outputs": [],
   "source": [
    "def to_device(data, device):\n",
    "    if isinstance(data, (list, tuple)):\n",
    "        return [to_device(x, device) for x in data]\n",
    "    return data.to(device)"
   ]
  },
  {
   "cell_type": "code",
   "execution_count": null,
   "id": "d125bcd4",
   "metadata": {},
   "outputs": [],
   "source": [
    "class DeviceDataLoader():\n",
    "    def __init__(self, dl, device):\n",
    "        self.dl = dl\n",
    "        self.device = device\n",
    "    def __iter__(self):\n",
    "        for batch in self.dl:\n",
    "            yield to_device(batch, self.device)"
   ]
  },
  {
   "cell_type": "code",
   "execution_count": null,
   "id": "1f44ff55",
   "metadata": {},
   "outputs": [],
   "source": [
    "model = MnistModel(in_size = input_size, hid_size = hidden_size, out_size = num_classes )\n",
    "model.to(device)"
   ]
  },
  {
   "cell_type": "code",
   "execution_count": null,
   "id": "8e7ea0bc",
   "metadata": {},
   "outputs": [],
   "source": [
    "train_loader = DeviceDataLoader(train_loader, device)\n",
    "images_val, labels_val = zip(*val_ds)\n",
    "size = val_ds[0][0].shape\n",
    "images_val = torch.cat(images_val).reshape(len(val_ds), size[0], size[1], size[2])\n",
    "images_val = images_val.to(device)\n",
    "labels_val = torch.tensor(labels_val, device=device)\n",
    "history = []"
   ]
  },
  {
   "cell_type": "code",
   "execution_count": null,
   "id": "daba0e98",
   "metadata": {},
   "outputs": [],
   "source": [
    "import time\n",
    "# t_begin = time.process_time() \n",
    "t_begin = time.time() "
   ]
  },
  {
   "cell_type": "markdown",
   "id": "8bd969fd",
   "metadata": {},
   "source": [
    "* 5 epochs with learning rate = 0.5"
   ]
  },
  {
   "cell_type": "code",
   "execution_count": null,
   "id": "82921ca6",
   "metadata": {},
   "outputs": [],
   "source": [
    "### Set the learning rate and number of iterations\n",
    "\n",
    "# case 1\n",
    "learning_rate = 0.5\n",
    "epochs = 5\n",
    "\n",
    "# # case 2\n",
    "# learning_rate = 0.1\n",
    "# epochs = 5\n",
    "\n",
    "optimizer = torch.optim.SGD(model.parameters(), lr = learning_rate)\n",
    "\n",
    "for epoch in range(epochs):\n",
    "    \n",
    "    ### training step    \n",
    "\n",
    "    for batch in train_loader:\n",
    "\n",
    "        images, labels = batch\n",
    "        out = model(images)\n",
    "        loss = F.cross_entropy(out, labels)\n",
    "        loss.backward()\n",
    "        optimizer.step()\n",
    "        optimizer.zero_grad()\n",
    "\n",
    "    ### validation step\n",
    "\n",
    "    ## loss\n",
    "    out_val = model(images_val) # 항상 MESSAGE 잘 보라. cuda로 돌리기\n",
    "    loss_val = F.cross_entropy(out_val, labels_val).item()\n",
    "    \n",
    "    ## accuracy\n",
    "    _, preds_val = torch.max(out_val, dim=1)\n",
    "    acc_val = (torch.sum(preds_val == labels_val) / len(val_ds)).item()    \n",
    "    \n",
    "    ## record history\n",
    "    result_val = {'val_loss': loss_val, 'val_acc': acc_val}\n",
    "    history.append(result_val)\n",
    "    print('Epoch [{}], val_loss: {:.4f}, val_acc: {:.4f}'.format(epoch+1, loss_val, acc_val))"
   ]
  },
  {
   "cell_type": "markdown",
   "id": "bf58053e",
   "metadata": {},
   "source": [
    "* 5 epochs with learning rate = 0.1"
   ]
  },
  {
   "cell_type": "code",
   "execution_count": null,
   "id": "f17f9a5d",
   "metadata": {},
   "outputs": [],
   "source": [
    "### Set the learning rate and number of iterations\n",
    "\n",
    "# # case 1\n",
    "# learning_rate = 0.5\n",
    "# epochs = 5\n",
    "\n",
    "# case 2\n",
    "learning_rate = 0.1\n",
    "epochs = 5\n",
    "\n",
    "optimizer = torch.optim.SGD(model.parameters(), lr = learning_rate)\n",
    "\n",
    "for epoch in range(epochs):\n",
    "    \n",
    "    ### training step    \n",
    "\n",
    "    for batch in train_loader:\n",
    "\n",
    "        images, labels = batch\n",
    "        out = model(images)\n",
    "        loss = F.cross_entropy(out, labels)\n",
    "        loss.backward()\n",
    "        optimizer.step()\n",
    "        optimizer.zero_grad()\n",
    "\n",
    "    ### validation step\n",
    "\n",
    "    ## loss\n",
    "    out_val = model(images_val) # 항상 MESSAGE 잘 보라. cuda로 돌리기\n",
    "    loss_val = F.cross_entropy(out_val, labels_val).item()\n",
    "    \n",
    "    ## accuracy\n",
    "    _, preds_val = torch.max(out_val, dim=1)\n",
    "    acc_val = (torch.sum(preds_val == labels_val) / len(val_ds)).item()    \n",
    "    \n",
    "    ## record history\n",
    "    result_val = {'val_loss': loss_val, 'val_acc': acc_val}\n",
    "    history.append(result_val)\n",
    "    print('Epoch [{}], val_loss: {:.4f}, val_acc: {:.4f}'.format(epoch+1, loss_val, acc_val))"
   ]
  },
  {
   "cell_type": "code",
   "execution_count": null,
   "id": "e08a5932",
   "metadata": {},
   "outputs": [],
   "source": [
    "# t_end = time.process_time() \n",
    "t_end = time.time() \n",
    "print('Took {} seconds'.format(t_end-t_begin))"
   ]
  },
  {
   "cell_type": "code",
   "execution_count": null,
   "id": "ee80ddc4",
   "metadata": {},
   "outputs": [],
   "source": [
    "losses = [x['val_loss'] for x in history]\n",
    "accuracies = [x['val_acc'] for x in history]\n",
    "\n",
    "plt.subplot(1,2,1)\n",
    "indices = list(range(len(history) + 1))\n",
    "indices.remove(0)\n",
    "plt.plot(indices, losses, '-x')\n",
    "plt.xlabel('epoch')\n",
    "plt.ylabel('loss')\n",
    "plt.title('Loss vs No. of epochs')\n",
    "\n",
    "plt.subplot(1,2,2)\n",
    "plt.plot(indices, accuracies, '-x')\n",
    "plt.xlabel('epoch')\n",
    "plt.ylabel('accuracy')\n",
    "plt.title('Accuracy vs No. of epochs')"
   ]
  },
  {
   "cell_type": "code",
   "execution_count": null,
   "id": "625f1f40",
   "metadata": {},
   "outputs": [],
   "source": [
    "test_dataset = MNIST(root='data/', train=False, transform=ToTensor())\n",
    "images_test, labels_test = zip(*test_dataset)\n",
    "images_test = torch.cat(images_test).reshape(len(test_dataset), size[0], size[1], size[2])\n",
    "images_test = images_test.to(device)\n",
    "labels_test = torch.tensor(labels_test, device=device)"
   ]
  },
  {
   "cell_type": "code",
   "execution_count": null,
   "id": "a71f3c7d",
   "metadata": {},
   "outputs": [],
   "source": [
    "out_test = model(images_test)\n",
    "_, pred_test = torch.max(out_test, dim=1)\n",
    "torch.sum(labels_test == pred_test) / len(test_dataset)"
   ]
  },
  {
   "cell_type": "code",
   "execution_count": null,
   "id": "9392b9b8",
   "metadata": {},
   "outputs": [],
   "source": []
  },
  {
   "cell_type": "code",
   "execution_count": null,
   "id": "b7b61817",
   "metadata": {},
   "outputs": [],
   "source": []
  },
  {
   "cell_type": "code",
   "execution_count": null,
   "id": "048de696",
   "metadata": {},
   "outputs": [],
   "source": []
  },
  {
   "cell_type": "code",
   "execution_count": null,
   "id": "f27f1c1b",
   "metadata": {},
   "outputs": [],
   "source": []
  }
 ],
 "metadata": {
  "kernelspec": {
   "display_name": "Python 3 (ipykernel)",
   "language": "python",
   "name": "python3"
  },
  "language_info": {
   "codemirror_mode": {
    "name": "ipython",
    "version": 3
   },
   "file_extension": ".py",
   "mimetype": "text/x-python",
   "name": "python",
   "nbconvert_exporter": "python",
   "pygments_lexer": "ipython3",
   "version": "3.9.13"
  }
 },
 "nbformat": 4,
 "nbformat_minor": 5
}
